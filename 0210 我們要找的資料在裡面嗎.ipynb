{
 "cells": [
  {
   "cell_type": "markdown",
   "id": "b95f8563",
   "metadata": {},
   "source": [
    "# 字串"
   ]
  },
  {
   "cell_type": "code",
   "execution_count": 1,
   "id": "10d3c5e3",
   "metadata": {},
   "outputs": [],
   "source": [
    "keyword = \"悲傷\""
   ]
  },
  {
   "cell_type": "code",
   "execution_count": 2,
   "id": "feb0e69d",
   "metadata": {},
   "outputs": [],
   "source": [
    "message=\"我今天覺得悲傷\""
   ]
  },
  {
   "cell_type": "code",
   "execution_count": 3,
   "id": "b3b3255a",
   "metadata": {},
   "outputs": [
    {
     "data": {
      "text/plain": [
       "True"
      ]
     },
     "execution_count": 3,
     "metadata": {},
     "output_type": "execute_result"
    }
   ],
   "source": [
    "keyword in message"
   ]
  },
  {
   "cell_type": "code",
   "execution_count": 4,
   "id": "bc0309a3",
   "metadata": {},
   "outputs": [],
   "source": [
    "message= \"我今天超開心!\""
   ]
  },
  {
   "cell_type": "code",
   "execution_count": 5,
   "id": "fd27fb6c",
   "metadata": {},
   "outputs": [
    {
     "data": {
      "text/plain": [
       "False"
      ]
     },
     "execution_count": 5,
     "metadata": {},
     "output_type": "execute_result"
    }
   ],
   "source": [
    "keyword in message"
   ]
  },
  {
   "cell_type": "markdown",
   "id": "1dc1c8e7",
   "metadata": {},
   "source": [
    "# 串列"
   ]
  },
  {
   "cell_type": "code",
   "execution_count": 6,
   "id": "d33095d1",
   "metadata": {},
   "outputs": [],
   "source": [
    "L=[34, 23, 12, 89, 95, 74]"
   ]
  },
  {
   "cell_type": "code",
   "execution_count": 7,
   "id": "d1bb9fdf",
   "metadata": {},
   "outputs": [
    {
     "data": {
      "text/plain": [
       "False"
      ]
     },
     "execution_count": 7,
     "metadata": {},
     "output_type": "execute_result"
    }
   ],
   "source": [
    "29 in L"
   ]
  },
  {
   "cell_type": "code",
   "execution_count": 8,
   "id": "88136ac1",
   "metadata": {},
   "outputs": [
    {
     "data": {
      "text/plain": [
       "True"
      ]
     },
     "execution_count": 8,
     "metadata": {},
     "output_type": "execute_result"
    }
   ],
   "source": [
    "89 in L"
   ]
  },
  {
   "cell_type": "code",
   "execution_count": null,
   "id": "9c7be1a1",
   "metadata": {},
   "outputs": [],
   "source": []
  }
 ],
 "metadata": {
  "kernelspec": {
   "display_name": "Python 3 (ipykernel)",
   "language": "python",
   "name": "python3"
  },
  "language_info": {
   "codemirror_mode": {
    "name": "ipython",
    "version": 3
   },
   "file_extension": ".py",
   "mimetype": "text/x-python",
   "name": "python",
   "nbconvert_exporter": "python",
   "pygments_lexer": "ipython3",
   "version": "3.9.13"
  }
 },
 "nbformat": 4,
 "nbformat_minor": 5
}
