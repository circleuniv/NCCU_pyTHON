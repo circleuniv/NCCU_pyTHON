{
 "cells": [
  {
   "cell_type": "code",
   "execution_count": 2,
   "id": "81c19269",
   "metadata": {},
   "outputs": [],
   "source": [
    "%matplotlib inline\n",
    "\n",
    "import numpy as np\n",
    "import pandas as pd\n",
    "import matplotlib.pyplot as plt\n",
    "\n",
    "#圖表中文化\n",
    "plt.rcParams['font.sans-serif'] = ['Taipei Sans TC Beta'] \n",
    "plt.rcParams['axes.unicode_minus'] = False"
   ]
  },
  {
   "cell_type": "markdown",
   "id": "17dd8f2e",
   "metadata": {},
   "source": [
    "# 我們取 鐵達尼號的 結構化 的 數據集 來做 KMeans 分類"
   ]
  },
  {
   "cell_type": "markdown",
   "id": "7fc8f8e9",
   "metadata": {},
   "source": [
    "## 先載入資料"
   ]
  },
  {
   "cell_type": "code",
   "execution_count": 3,
   "id": "9ebe9db2",
   "metadata": {},
   "outputs": [],
   "source": [
    "df=pd.read_csv('http://bit.ly/kaggletrain')"
   ]
  },
  {
   "cell_type": "markdown",
   "id": "830d0d64",
   "metadata": {},
   "source": [
    "## 取 存活者 資料來分析"
   ]
  },
  {
   "cell_type": "code",
   "execution_count": 4,
   "id": "e0838e84",
   "metadata": {},
   "outputs": [],
   "source": [
    "df1 = df[df.Survived==1]"
   ]
  },
  {
   "cell_type": "code",
   "execution_count": 5,
   "id": "ef6afb93",
   "metadata": {},
   "outputs": [
    {
     "data": {
      "text/html": [
       "<div>\n",
       "<style scoped>\n",
       "    .dataframe tbody tr th:only-of-type {\n",
       "        vertical-align: middle;\n",
       "    }\n",
       "\n",
       "    .dataframe tbody tr th {\n",
       "        vertical-align: top;\n",
       "    }\n",
       "\n",
       "    .dataframe thead th {\n",
       "        text-align: right;\n",
       "    }\n",
       "</style>\n",
       "<table border=\"1\" class=\"dataframe\">\n",
       "  <thead>\n",
       "    <tr style=\"text-align: right;\">\n",
       "      <th></th>\n",
       "      <th>PassengerId</th>\n",
       "      <th>Survived</th>\n",
       "      <th>Pclass</th>\n",
       "      <th>Name</th>\n",
       "      <th>Sex</th>\n",
       "      <th>Age</th>\n",
       "      <th>SibSp</th>\n",
       "      <th>Parch</th>\n",
       "      <th>Ticket</th>\n",
       "      <th>Fare</th>\n",
       "      <th>Cabin</th>\n",
       "      <th>Embarked</th>\n",
       "    </tr>\n",
       "  </thead>\n",
       "  <tbody>\n",
       "    <tr>\n",
       "      <th>1</th>\n",
       "      <td>2</td>\n",
       "      <td>1</td>\n",
       "      <td>1</td>\n",
       "      <td>Cumings, Mrs. John Bradley (Florence Briggs Th...</td>\n",
       "      <td>female</td>\n",
       "      <td>38.0</td>\n",
       "      <td>1</td>\n",
       "      <td>0</td>\n",
       "      <td>PC 17599</td>\n",
       "      <td>71.2833</td>\n",
       "      <td>C85</td>\n",
       "      <td>C</td>\n",
       "    </tr>\n",
       "    <tr>\n",
       "      <th>2</th>\n",
       "      <td>3</td>\n",
       "      <td>1</td>\n",
       "      <td>3</td>\n",
       "      <td>Heikkinen, Miss. Laina</td>\n",
       "      <td>female</td>\n",
       "      <td>26.0</td>\n",
       "      <td>0</td>\n",
       "      <td>0</td>\n",
       "      <td>STON/O2. 3101282</td>\n",
       "      <td>7.9250</td>\n",
       "      <td>NaN</td>\n",
       "      <td>S</td>\n",
       "    </tr>\n",
       "    <tr>\n",
       "      <th>3</th>\n",
       "      <td>4</td>\n",
       "      <td>1</td>\n",
       "      <td>1</td>\n",
       "      <td>Futrelle, Mrs. Jacques Heath (Lily May Peel)</td>\n",
       "      <td>female</td>\n",
       "      <td>35.0</td>\n",
       "      <td>1</td>\n",
       "      <td>0</td>\n",
       "      <td>113803</td>\n",
       "      <td>53.1000</td>\n",
       "      <td>C123</td>\n",
       "      <td>S</td>\n",
       "    </tr>\n",
       "    <tr>\n",
       "      <th>8</th>\n",
       "      <td>9</td>\n",
       "      <td>1</td>\n",
       "      <td>3</td>\n",
       "      <td>Johnson, Mrs. Oscar W (Elisabeth Vilhelmina Berg)</td>\n",
       "      <td>female</td>\n",
       "      <td>27.0</td>\n",
       "      <td>0</td>\n",
       "      <td>2</td>\n",
       "      <td>347742</td>\n",
       "      <td>11.1333</td>\n",
       "      <td>NaN</td>\n",
       "      <td>S</td>\n",
       "    </tr>\n",
       "    <tr>\n",
       "      <th>9</th>\n",
       "      <td>10</td>\n",
       "      <td>1</td>\n",
       "      <td>2</td>\n",
       "      <td>Nasser, Mrs. Nicholas (Adele Achem)</td>\n",
       "      <td>female</td>\n",
       "      <td>14.0</td>\n",
       "      <td>1</td>\n",
       "      <td>0</td>\n",
       "      <td>237736</td>\n",
       "      <td>30.0708</td>\n",
       "      <td>NaN</td>\n",
       "      <td>C</td>\n",
       "    </tr>\n",
       "    <tr>\n",
       "      <th>...</th>\n",
       "      <td>...</td>\n",
       "      <td>...</td>\n",
       "      <td>...</td>\n",
       "      <td>...</td>\n",
       "      <td>...</td>\n",
       "      <td>...</td>\n",
       "      <td>...</td>\n",
       "      <td>...</td>\n",
       "      <td>...</td>\n",
       "      <td>...</td>\n",
       "      <td>...</td>\n",
       "      <td>...</td>\n",
       "    </tr>\n",
       "    <tr>\n",
       "      <th>875</th>\n",
       "      <td>876</td>\n",
       "      <td>1</td>\n",
       "      <td>3</td>\n",
       "      <td>Najib, Miss. Adele Kiamie \"Jane\"</td>\n",
       "      <td>female</td>\n",
       "      <td>15.0</td>\n",
       "      <td>0</td>\n",
       "      <td>0</td>\n",
       "      <td>2667</td>\n",
       "      <td>7.2250</td>\n",
       "      <td>NaN</td>\n",
       "      <td>C</td>\n",
       "    </tr>\n",
       "    <tr>\n",
       "      <th>879</th>\n",
       "      <td>880</td>\n",
       "      <td>1</td>\n",
       "      <td>1</td>\n",
       "      <td>Potter, Mrs. Thomas Jr (Lily Alexenia Wilson)</td>\n",
       "      <td>female</td>\n",
       "      <td>56.0</td>\n",
       "      <td>0</td>\n",
       "      <td>1</td>\n",
       "      <td>11767</td>\n",
       "      <td>83.1583</td>\n",
       "      <td>C50</td>\n",
       "      <td>C</td>\n",
       "    </tr>\n",
       "    <tr>\n",
       "      <th>880</th>\n",
       "      <td>881</td>\n",
       "      <td>1</td>\n",
       "      <td>2</td>\n",
       "      <td>Shelley, Mrs. William (Imanita Parrish Hall)</td>\n",
       "      <td>female</td>\n",
       "      <td>25.0</td>\n",
       "      <td>0</td>\n",
       "      <td>1</td>\n",
       "      <td>230433</td>\n",
       "      <td>26.0000</td>\n",
       "      <td>NaN</td>\n",
       "      <td>S</td>\n",
       "    </tr>\n",
       "    <tr>\n",
       "      <th>887</th>\n",
       "      <td>888</td>\n",
       "      <td>1</td>\n",
       "      <td>1</td>\n",
       "      <td>Graham, Miss. Margaret Edith</td>\n",
       "      <td>female</td>\n",
       "      <td>19.0</td>\n",
       "      <td>0</td>\n",
       "      <td>0</td>\n",
       "      <td>112053</td>\n",
       "      <td>30.0000</td>\n",
       "      <td>B42</td>\n",
       "      <td>S</td>\n",
       "    </tr>\n",
       "    <tr>\n",
       "      <th>889</th>\n",
       "      <td>890</td>\n",
       "      <td>1</td>\n",
       "      <td>1</td>\n",
       "      <td>Behr, Mr. Karl Howell</td>\n",
       "      <td>male</td>\n",
       "      <td>26.0</td>\n",
       "      <td>0</td>\n",
       "      <td>0</td>\n",
       "      <td>111369</td>\n",
       "      <td>30.0000</td>\n",
       "      <td>C148</td>\n",
       "      <td>C</td>\n",
       "    </tr>\n",
       "  </tbody>\n",
       "</table>\n",
       "<p>342 rows × 12 columns</p>\n",
       "</div>"
      ],
      "text/plain": [
       "     PassengerId  Survived  Pclass  \\\n",
       "1              2         1       1   \n",
       "2              3         1       3   \n",
       "3              4         1       1   \n",
       "8              9         1       3   \n",
       "9             10         1       2   \n",
       "..           ...       ...     ...   \n",
       "875          876         1       3   \n",
       "879          880         1       1   \n",
       "880          881         1       2   \n",
       "887          888         1       1   \n",
       "889          890         1       1   \n",
       "\n",
       "                                                  Name     Sex   Age  SibSp  \\\n",
       "1    Cumings, Mrs. John Bradley (Florence Briggs Th...  female  38.0      1   \n",
       "2                               Heikkinen, Miss. Laina  female  26.0      0   \n",
       "3         Futrelle, Mrs. Jacques Heath (Lily May Peel)  female  35.0      1   \n",
       "8    Johnson, Mrs. Oscar W (Elisabeth Vilhelmina Berg)  female  27.0      0   \n",
       "9                  Nasser, Mrs. Nicholas (Adele Achem)  female  14.0      1   \n",
       "..                                                 ...     ...   ...    ...   \n",
       "875                   Najib, Miss. Adele Kiamie \"Jane\"  female  15.0      0   \n",
       "879      Potter, Mrs. Thomas Jr (Lily Alexenia Wilson)  female  56.0      0   \n",
       "880       Shelley, Mrs. William (Imanita Parrish Hall)  female  25.0      0   \n",
       "887                       Graham, Miss. Margaret Edith  female  19.0      0   \n",
       "889                              Behr, Mr. Karl Howell    male  26.0      0   \n",
       "\n",
       "     Parch            Ticket     Fare Cabin Embarked  \n",
       "1        0          PC 17599  71.2833   C85        C  \n",
       "2        0  STON/O2. 3101282   7.9250   NaN        S  \n",
       "3        0            113803  53.1000  C123        S  \n",
       "8        2            347742  11.1333   NaN        S  \n",
       "9        0            237736  30.0708   NaN        C  \n",
       "..     ...               ...      ...   ...      ...  \n",
       "875      0              2667   7.2250   NaN        C  \n",
       "879      1             11767  83.1583   C50        C  \n",
       "880      1            230433  26.0000   NaN        S  \n",
       "887      0            112053  30.0000   B42        S  \n",
       "889      0            111369  30.0000  C148        C  \n",
       "\n",
       "[342 rows x 12 columns]"
      ]
     },
     "execution_count": 5,
     "metadata": {},
     "output_type": "execute_result"
    }
   ],
   "source": [
    "df1 "
   ]
  },
  {
   "cell_type": "code",
   "execution_count": 15,
   "id": "13b8e533",
   "metadata": {},
   "outputs": [
    {
     "data": {
      "text/plain": [
       "array([[2, 1, 1, ..., 71.2833, 'C85', 'C'],\n",
       "       [3, 1, 3, ..., 7.925, nan, 'S'],\n",
       "       [4, 1, 1, ..., 53.1, 'C123', 'S'],\n",
       "       ...,\n",
       "       [881, 1, 2, ..., 26.0, nan, 'S'],\n",
       "       [888, 1, 1, ..., 30.0, 'B42', 'S'],\n",
       "       [890, 1, 1, ..., 30.0, 'C148', 'C']], dtype=object)"
      ]
     },
     "execution_count": 15,
     "metadata": {},
     "output_type": "execute_result"
    }
   ],
   "source": [
    "df1.values"
   ]
  },
  {
   "cell_type": "markdown",
   "id": "d3d2818a",
   "metadata": {},
   "source": [
    "## 把 Dataframe 轉成 Array"
   ]
  },
  {
   "cell_type": "code",
   "execution_count": 210,
   "id": "997a9f6d",
   "metadata": {},
   "outputs": [],
   "source": [
    "X=np.array(df1)"
   ]
  },
  {
   "cell_type": "code",
   "execution_count": 211,
   "id": "a837fd2a",
   "metadata": {},
   "outputs": [
    {
     "data": {
      "text/plain": [
       "array([[2, 1, 1, ..., 71.2833, 'C85', 'C'],\n",
       "       [3, 1, 3, ..., 7.925, nan, 'S'],\n",
       "       [4, 1, 1, ..., 53.1, 'C123', 'S'],\n",
       "       ...,\n",
       "       [881, 1, 2, ..., 26.0, nan, 'S'],\n",
       "       [888, 1, 1, ..., 30.0, 'B42', 'S'],\n",
       "       [890, 1, 1, ..., 30.0, 'C148', 'C']], dtype=object)"
      ]
     },
     "execution_count": 211,
     "metadata": {},
     "output_type": "execute_result"
    }
   ],
   "source": [
    "X"
   ]
  },
  {
   "cell_type": "markdown",
   "id": "b60035e7",
   "metadata": {},
   "source": [
    "## 只取 Sex, Age, Fare 當成 要送 KMeans 分類的資料"
   ]
  },
  {
   "cell_type": "code",
   "execution_count": 212,
   "id": "de1a6498",
   "metadata": {},
   "outputs": [],
   "source": [
    "X=X[:,[4,5,9]]"
   ]
  },
  {
   "cell_type": "code",
   "execution_count": 213,
   "id": "69d00e67",
   "metadata": {},
   "outputs": [
    {
     "data": {
      "text/plain": [
       "array([['female', 38.0, 71.2833],\n",
       "       ['female', 26.0, 7.925],\n",
       "       ['female', 35.0, 53.1],\n",
       "       ...,\n",
       "       ['female', 25.0, 26.0],\n",
       "       ['female', 19.0, 30.0],\n",
       "       ['male', 26.0, 30.0]], dtype=object)"
      ]
     },
     "execution_count": 213,
     "metadata": {},
     "output_type": "execute_result"
    }
   ],
   "source": [
    "X"
   ]
  },
  {
   "cell_type": "markdown",
   "id": "c0403f0e",
   "metadata": {},
   "source": [
    "# 因為直接送會產生錯誤，所以，要先將資料做整理，轉成數值。"
   ]
  },
  {
   "cell_type": "code",
   "execution_count": 214,
   "id": "6ca85023",
   "metadata": {},
   "outputs": [],
   "source": [
    "X[X=='female']=0\n",
    "X[X=='male']=1"
   ]
  },
  {
   "cell_type": "code",
   "execution_count": 215,
   "id": "f4dcfaf7",
   "metadata": {},
   "outputs": [
    {
     "data": {
      "text/plain": [
       "array([[0, 38.0, 71.2833],\n",
       "       [0, 26.0, 7.925],\n",
       "       [0, 35.0, 53.1],\n",
       "       ...,\n",
       "       [0, 25.0, 26.0],\n",
       "       [0, 19.0, 30.0],\n",
       "       [1, 26.0, 30.0]], dtype=object)"
      ]
     },
     "execution_count": 215,
     "metadata": {},
     "output_type": "execute_result"
    }
   ],
   "source": [
    "X"
   ]
  },
  {
   "cell_type": "markdown",
   "id": "57988d57",
   "metadata": {},
   "source": [
    "# 資料準備好，開始使用 KMeans"
   ]
  },
  {
   "cell_type": "code",
   "execution_count": 216,
   "id": "b06886e8",
   "metadata": {},
   "outputs": [],
   "source": [
    "from sklearn.cluster import KMeans"
   ]
  },
  {
   "cell_type": "markdown",
   "id": "0bf56c55",
   "metadata": {},
   "source": [
    "## 因為年齡１～１００歲，大致可分10個級距，所以，我們只是玩玩看"
   ]
  },
  {
   "cell_type": "code",
   "execution_count": 229,
   "id": "5e1531a5",
   "metadata": {},
   "outputs": [],
   "source": [
    "clf=KMeans(n_clusters=10)"
   ]
  },
  {
   "cell_type": "markdown",
   "id": "b3b87917",
   "metadata": {},
   "source": [
    "## 在執行過程中，因為產生了一些資料上的錯誤，無法解決，所以 [ChatGPT](https://openai.com/blog/chatgpt/) 給了以下解決方法"
   ]
  },
  {
   "cell_type": "code",
   "execution_count": 230,
   "id": "74e234d9",
   "metadata": {},
   "outputs": [],
   "source": [
    "from sklearn.impute import SimpleImputer\n",
    "\n",
    "# 創建 SimpleImputer 物件，並設定使用中位數替換 NaN 值\n",
    "imputer = SimpleImputer(strategy='median')\n",
    "\n",
    "# 使用 imputer 物件對資料進行轉換，將 NaN 值替換為中位數\n",
    "X = imputer.fit_transform(X)"
   ]
  },
  {
   "cell_type": "markdown",
   "id": "a6b05ce0",
   "metadata": {},
   "source": [
    "## 真的太神啦，fit 沒出錯了～"
   ]
  },
  {
   "cell_type": "code",
   "execution_count": 231,
   "id": "7f07f4b5",
   "metadata": {},
   "outputs": [
    {
     "data": {
      "text/plain": [
       "KMeans(n_clusters=10)"
      ]
     },
     "execution_count": 231,
     "metadata": {},
     "output_type": "execute_result"
    }
   ],
   "source": [
    "clf.fit(X)"
   ]
  },
  {
   "cell_type": "markdown",
   "id": "b3838b97",
   "metadata": {},
   "source": [
    "## 分類後的結果"
   ]
  },
  {
   "cell_type": "code",
   "execution_count": 232,
   "id": "1fa05ce9",
   "metadata": {},
   "outputs": [
    {
     "data": {
      "text/plain": [
       "array([4, 0, 8, 0, 5, 5, 7, 7, 0, 0, 0, 0, 6, 6, 0, 9, 0, 0, 0, 5, 0, 0,\n",
       "       4, 6, 6, 0, 5, 4, 0, 0, 0, 8, 5, 0, 0, 0, 0, 0, 1, 8, 6, 0, 0, 6,\n",
       "       0, 0, 0, 6, 6, 6, 0, 0, 0, 8, 0, 7, 5, 8, 5, 5, 5, 0, 7, 0, 0, 5,\n",
       "       7, 9, 0, 0, 0, 0, 6, 6, 2, 0, 4, 0, 4, 0, 4, 5, 5, 0, 0, 8, 0, 4,\n",
       "       4, 3, 7, 5, 0, 9, 9, 0, 7, 0, 4, 6, 0, 0, 7, 0, 4, 4, 6, 1, 0, 6,\n",
       "       0, 9, 2, 2, 8, 4, 1, 0, 6, 9, 9, 0, 6, 9, 0, 6, 8, 6, 9, 9, 7, 5,\n",
       "       1, 0, 7, 0, 5, 8, 0, 0, 4, 0, 0, 8, 8, 4, 0, 1, 5, 8, 0, 0, 2, 0,\n",
       "       2, 0, 0, 0, 5, 4, 7, 6, 0, 6, 6, 0, 6, 0, 7, 2, 0, 7, 0, 0, 4, 5,\n",
       "       6, 5, 7, 4, 0, 8, 7, 7, 5, 6, 0, 5, 7, 4, 4, 5, 4, 4, 6, 6, 8, 0,\n",
       "       6, 8, 0, 6, 4, 8, 7, 5, 6, 5, 2, 8, 4, 6, 6, 0, 5, 2, 0, 0, 7, 4,\n",
       "       6, 0, 7, 8, 6, 0, 0, 8, 0, 6, 2, 4, 4, 4, 6, 8, 6, 6, 6, 6, 9, 0,\n",
       "       8, 5, 8, 0, 4, 7, 6, 0, 8, 8, 5, 4, 7, 0, 6, 0, 9, 0, 8, 6, 0, 0,\n",
       "       3, 4, 1, 8, 5, 8, 0, 1, 6, 7, 7, 9, 0, 8, 8, 1, 0, 5, 8, 6, 0, 1,\n",
       "       3, 6, 1, 0, 0, 5, 5, 8, 5, 4, 0, 2, 4, 7, 5, 1, 0, 8, 0, 5, 7, 0,\n",
       "       6, 2, 5, 0, 8, 4, 0, 0, 5, 0, 4, 0, 5, 4, 8, 6, 6, 4, 6, 0, 9, 7,\n",
       "       0, 7, 7, 0, 5, 8, 6, 0, 4, 6, 6, 6])"
      ]
     },
     "execution_count": 232,
     "metadata": {},
     "output_type": "execute_result"
    }
   ],
   "source": [
    "clf.labels_"
   ]
  },
  {
   "cell_type": "markdown",
   "id": "ae051dfc",
   "metadata": {},
   "source": [
    "## 年齡跟票價的分類示意圖.... 得到了什麼啟發嗎？可試試: 如果把上面的 n_clusters=10 改成3"
   ]
  },
  {
   "cell_type": "code",
   "execution_count": 233,
   "id": "be9b6531",
   "metadata": {},
   "outputs": [
    {
     "data": {
      "text/plain": [
       "Text(0.5, 1.0, 'K-means Clustering')"
      ]
     },
     "execution_count": 233,
     "metadata": {},
     "output_type": "execute_result"
    },
    {
     "data": {
      "image/png": "[encoded data removed]",
      "text/plain": [
       "<Figure size 640x480 with 1 Axes>"
      ]
     },
     "metadata": {},
     "output_type": "display_data"
    }
   ],
   "source": [
    "plt.scatter(X[:,1],X[:,2],c=clf.labels_)\n",
    "plt.xlabel('年齡')\n",
    "plt.ylabel('票價')\n",
    "plt.title('K-means Clustering')"
   ]
  },
  {
   "cell_type": "markdown",
   "id": "677848c0",
   "metadata": {},
   "source": [
    "## 結論：也許拿Cabin跟票價比較有分析價值?!"
   ]
  },
  {
   "cell_type": "code",
   "execution_count": null,
   "id": "759f712a",
   "metadata": {},
   "outputs": [],
   "source": []
  }
 ],
 "metadata": {
  "kernelspec": {
   "display_name": "Python 3 (ipykernel)",
   "language": "python",
   "name": "python3"
  },
  "language_info": {
   "codemirror_mode": {
    "name": "ipython",
    "version": 3
   },
   "file_extension": ".py",
   "mimetype": "text/x-python",
   "name": "python",
   "nbconvert_exporter": "python",
   "pygments_lexer": "ipython3",
   "version": "3.9.13"
  }
 },
 "nbformat": 4,
 "nbformat_minor": 5
}
