{
 "cells": [
  {
   "cell_type": "code",
   "execution_count": 1,
   "id": "2074af13",
   "metadata": {},
   "outputs": [],
   "source": [
    "%matplotlib inline\n",
    "\n",
    "import numpy as np\n",
    "import matplotlib.pyplot as plt\n",
    "import pandas as pd"
   ]
  },
  {
   "cell_type": "code",
   "execution_count": 2,
   "id": "2e6d18f9",
   "metadata": {},
   "outputs": [],
   "source": [
    "mydata=np.random.randn(4,3)  #randn 平均值是0, 標準差是1的亂數"
   ]
  },
  {
   "cell_type": "code",
   "execution_count": 4,
   "id": "09070827",
   "metadata": {},
   "outputs": [
    {
     "data": {
      "text/plain": [
       "array([[ 1.92378938, -0.10107356, -1.87101326],\n",
       "       [ 0.53842367,  0.88610151, -1.35913714],\n",
       "       [-0.17459203, -0.0465283 ,  0.38081118],\n",
       "       [ 1.4724516 , -0.11573302, -0.0978688 ]])"
      ]
     },
     "execution_count": 4,
     "metadata": {},
     "output_type": "execute_result"
    }
   ],
   "source": [
    "mydata"
   ]
  },
  {
   "cell_type": "code",
   "execution_count": 5,
   "id": "619b96d6",
   "metadata": {},
   "outputs": [
    {
     "data": {
      "text/plain": [
       "['A', 'B', 'C', 'D']"
      ]
     },
     "execution_count": 5,
     "metadata": {},
     "output_type": "execute_result"
    }
   ],
   "source": [
    "list(\"ABCD\")"
   ]
  },
  {
   "cell_type": "code",
   "execution_count": 6,
   "id": "934dd4be",
   "metadata": {},
   "outputs": [
    {
     "data": {
      "text/plain": [
       "['甲', '乙', '丙', '丁']"
      ]
     },
     "execution_count": 6,
     "metadata": {},
     "output_type": "execute_result"
    }
   ],
   "source": [
    "list(\"甲乙丙丁\")"
   ]
  },
  {
   "cell_type": "code",
   "execution_count": 7,
   "id": "8de48a9e",
   "metadata": {},
   "outputs": [],
   "source": [
    "pd.DataFrame?"
   ]
  },
  {
   "cell_type": "code",
   "execution_count": 8,
   "id": "ee9b1243",
   "metadata": {},
   "outputs": [],
   "source": [
    "df1=pd.DataFrame(mydata, columns=list(\"ABC\"))"
   ]
  },
  {
   "cell_type": "code",
   "execution_count": 9,
   "id": "d16cd955",
   "metadata": {},
   "outputs": [
    {
     "data": {
      "text/html": [
       "<div>\n",
       "<style scoped>\n",
       "    .dataframe tbody tr th:only-of-type {\n",
       "        vertical-align: middle;\n",
       "    }\n",
       "\n",
       "    .dataframe tbody tr th {\n",
       "        vertical-align: top;\n",
       "    }\n",
       "\n",
       "    .dataframe thead th {\n",
       "        text-align: right;\n",
       "    }\n",
       "</style>\n",
       "<table border=\"1\" class=\"dataframe\">\n",
       "  <thead>\n",
       "    <tr style=\"text-align: right;\">\n",
       "      <th></th>\n",
       "      <th>A</th>\n",
       "      <th>B</th>\n",
       "      <th>C</th>\n",
       "    </tr>\n",
       "  </thead>\n",
       "  <tbody>\n",
       "    <tr>\n",
       "      <th>0</th>\n",
       "      <td>1.923789</td>\n",
       "      <td>-0.101074</td>\n",
       "      <td>-1.871013</td>\n",
       "    </tr>\n",
       "    <tr>\n",
       "      <th>1</th>\n",
       "      <td>0.538424</td>\n",
       "      <td>0.886102</td>\n",
       "      <td>-1.359137</td>\n",
       "    </tr>\n",
       "    <tr>\n",
       "      <th>2</th>\n",
       "      <td>-0.174592</td>\n",
       "      <td>-0.046528</td>\n",
       "      <td>0.380811</td>\n",
       "    </tr>\n",
       "    <tr>\n",
       "      <th>3</th>\n",
       "      <td>1.472452</td>\n",
       "      <td>-0.115733</td>\n",
       "      <td>-0.097869</td>\n",
       "    </tr>\n",
       "  </tbody>\n",
       "</table>\n",
       "</div>"
      ],
      "text/plain": [
       "          A         B         C\n",
       "0  1.923789 -0.101074 -1.871013\n",
       "1  0.538424  0.886102 -1.359137\n",
       "2 -0.174592 -0.046528  0.380811\n",
       "3  1.472452 -0.115733 -0.097869"
      ]
     },
     "execution_count": 9,
     "metadata": {},
     "output_type": "execute_result"
    }
   ],
   "source": [
    "df1"
   ]
  },
  {
   "cell_type": "code",
   "execution_count": 10,
   "id": "91c11633",
   "metadata": {},
   "outputs": [],
   "source": [
    "df2=pd.DataFrame(np.random.randn(3,3),columns=list(\"ABC\"))"
   ]
  },
  {
   "cell_type": "code",
   "execution_count": 11,
   "id": "92fc73cc",
   "metadata": {},
   "outputs": [
    {
     "data": {
      "text/html": [
       "<div>\n",
       "<style scoped>\n",
       "    .dataframe tbody tr th:only-of-type {\n",
       "        vertical-align: middle;\n",
       "    }\n",
       "\n",
       "    .dataframe tbody tr th {\n",
       "        vertical-align: top;\n",
       "    }\n",
       "\n",
       "    .dataframe thead th {\n",
       "        text-align: right;\n",
       "    }\n",
       "</style>\n",
       "<table border=\"1\" class=\"dataframe\">\n",
       "  <thead>\n",
       "    <tr style=\"text-align: right;\">\n",
       "      <th></th>\n",
       "      <th>A</th>\n",
       "      <th>B</th>\n",
       "      <th>C</th>\n",
       "    </tr>\n",
       "  </thead>\n",
       "  <tbody>\n",
       "    <tr>\n",
       "      <th>0</th>\n",
       "      <td>-0.739004</td>\n",
       "      <td>-0.420473</td>\n",
       "      <td>0.946682</td>\n",
       "    </tr>\n",
       "    <tr>\n",
       "      <th>1</th>\n",
       "      <td>-0.447121</td>\n",
       "      <td>-0.722117</td>\n",
       "      <td>1.061374</td>\n",
       "    </tr>\n",
       "    <tr>\n",
       "      <th>2</th>\n",
       "      <td>-0.172913</td>\n",
       "      <td>-0.447106</td>\n",
       "      <td>-0.517997</td>\n",
       "    </tr>\n",
       "  </tbody>\n",
       "</table>\n",
       "</div>"
      ],
      "text/plain": [
       "          A         B         C\n",
       "0 -0.739004 -0.420473  0.946682\n",
       "1 -0.447121 -0.722117  1.061374\n",
       "2 -0.172913 -0.447106 -0.517997"
      ]
     },
     "execution_count": 11,
     "metadata": {},
     "output_type": "execute_result"
    }
   ],
   "source": [
    "df2"
   ]
  },
  {
   "cell_type": "code",
   "execution_count": 12,
   "id": "c3da3bf7",
   "metadata": {},
   "outputs": [],
   "source": [
    "df3=pd.concat([df1,df2],axis=0) #合併2個 DataFrame, axis=0時,是上下(列), axis=1是左右(行)"
   ]
  },
  {
   "cell_type": "code",
   "execution_count": 13,
   "id": "5d4a14ce",
   "metadata": {},
   "outputs": [
    {
     "data": {
      "text/html": [
       "<div>\n",
       "<style scoped>\n",
       "    .dataframe tbody tr th:only-of-type {\n",
       "        vertical-align: middle;\n",
       "    }\n",
       "\n",
       "    .dataframe tbody tr th {\n",
       "        vertical-align: top;\n",
       "    }\n",
       "\n",
       "    .dataframe thead th {\n",
       "        text-align: right;\n",
       "    }\n",
       "</style>\n",
       "<table border=\"1\" class=\"dataframe\">\n",
       "  <thead>\n",
       "    <tr style=\"text-align: right;\">\n",
       "      <th></th>\n",
       "      <th>A</th>\n",
       "      <th>B</th>\n",
       "      <th>C</th>\n",
       "    </tr>\n",
       "  </thead>\n",
       "  <tbody>\n",
       "    <tr>\n",
       "      <th>0</th>\n",
       "      <td>1.923789</td>\n",
       "      <td>-0.101074</td>\n",
       "      <td>-1.871013</td>\n",
       "    </tr>\n",
       "    <tr>\n",
       "      <th>1</th>\n",
       "      <td>0.538424</td>\n",
       "      <td>0.886102</td>\n",
       "      <td>-1.359137</td>\n",
       "    </tr>\n",
       "    <tr>\n",
       "      <th>2</th>\n",
       "      <td>-0.174592</td>\n",
       "      <td>-0.046528</td>\n",
       "      <td>0.380811</td>\n",
       "    </tr>\n",
       "    <tr>\n",
       "      <th>3</th>\n",
       "      <td>1.472452</td>\n",
       "      <td>-0.115733</td>\n",
       "      <td>-0.097869</td>\n",
       "    </tr>\n",
       "    <tr>\n",
       "      <th>0</th>\n",
       "      <td>-0.739004</td>\n",
       "      <td>-0.420473</td>\n",
       "      <td>0.946682</td>\n",
       "    </tr>\n",
       "    <tr>\n",
       "      <th>1</th>\n",
       "      <td>-0.447121</td>\n",
       "      <td>-0.722117</td>\n",
       "      <td>1.061374</td>\n",
       "    </tr>\n",
       "    <tr>\n",
       "      <th>2</th>\n",
       "      <td>-0.172913</td>\n",
       "      <td>-0.447106</td>\n",
       "      <td>-0.517997</td>\n",
       "    </tr>\n",
       "  </tbody>\n",
       "</table>\n",
       "</div>"
      ],
      "text/plain": [
       "          A         B         C\n",
       "0  1.923789 -0.101074 -1.871013\n",
       "1  0.538424  0.886102 -1.359137\n",
       "2 -0.174592 -0.046528  0.380811\n",
       "3  1.472452 -0.115733 -0.097869\n",
       "0 -0.739004 -0.420473  0.946682\n",
       "1 -0.447121 -0.722117  1.061374\n",
       "2 -0.172913 -0.447106 -0.517997"
      ]
     },
     "execution_count": 13,
     "metadata": {},
     "output_type": "execute_result"
    }
   ],
   "source": [
    "df3"
   ]
  },
  {
   "cell_type": "code",
   "execution_count": 16,
   "id": "55fe40d2",
   "metadata": {},
   "outputs": [],
   "source": [
    "df3.index=range(7)  #修改 index"
   ]
  },
  {
   "cell_type": "code",
   "execution_count": 17,
   "id": "5326e2dd",
   "metadata": {},
   "outputs": [
    {
     "data": {
      "text/html": [
       "<div>\n",
       "<style scoped>\n",
       "    .dataframe tbody tr th:only-of-type {\n",
       "        vertical-align: middle;\n",
       "    }\n",
       "\n",
       "    .dataframe tbody tr th {\n",
       "        vertical-align: top;\n",
       "    }\n",
       "\n",
       "    .dataframe thead th {\n",
       "        text-align: right;\n",
       "    }\n",
       "</style>\n",
       "<table border=\"1\" class=\"dataframe\">\n",
       "  <thead>\n",
       "    <tr style=\"text-align: right;\">\n",
       "      <th></th>\n",
       "      <th>A</th>\n",
       "      <th>B</th>\n",
       "      <th>C</th>\n",
       "    </tr>\n",
       "  </thead>\n",
       "  <tbody>\n",
       "    <tr>\n",
       "      <th>0</th>\n",
       "      <td>1.923789</td>\n",
       "      <td>-0.101074</td>\n",
       "      <td>-1.871013</td>\n",
       "    </tr>\n",
       "    <tr>\n",
       "      <th>1</th>\n",
       "      <td>0.538424</td>\n",
       "      <td>0.886102</td>\n",
       "      <td>-1.359137</td>\n",
       "    </tr>\n",
       "    <tr>\n",
       "      <th>2</th>\n",
       "      <td>-0.174592</td>\n",
       "      <td>-0.046528</td>\n",
       "      <td>0.380811</td>\n",
       "    </tr>\n",
       "    <tr>\n",
       "      <th>3</th>\n",
       "      <td>1.472452</td>\n",
       "      <td>-0.115733</td>\n",
       "      <td>-0.097869</td>\n",
       "    </tr>\n",
       "    <tr>\n",
       "      <th>4</th>\n",
       "      <td>-0.739004</td>\n",
       "      <td>-0.420473</td>\n",
       "      <td>0.946682</td>\n",
       "    </tr>\n",
       "    <tr>\n",
       "      <th>5</th>\n",
       "      <td>-0.447121</td>\n",
       "      <td>-0.722117</td>\n",
       "      <td>1.061374</td>\n",
       "    </tr>\n",
       "    <tr>\n",
       "      <th>6</th>\n",
       "      <td>-0.172913</td>\n",
       "      <td>-0.447106</td>\n",
       "      <td>-0.517997</td>\n",
       "    </tr>\n",
       "  </tbody>\n",
       "</table>\n",
       "</div>"
      ],
      "text/plain": [
       "          A         B         C\n",
       "0  1.923789 -0.101074 -1.871013\n",
       "1  0.538424  0.886102 -1.359137\n",
       "2 -0.174592 -0.046528  0.380811\n",
       "3  1.472452 -0.115733 -0.097869\n",
       "4 -0.739004 -0.420473  0.946682\n",
       "5 -0.447121 -0.722117  1.061374\n",
       "6 -0.172913 -0.447106 -0.517997"
      ]
     },
     "execution_count": 17,
     "metadata": {},
     "output_type": "execute_result"
    }
   ],
   "source": [
    "df3"
   ]
  },
  {
   "cell_type": "code",
   "execution_count": 18,
   "id": "10a58c86",
   "metadata": {},
   "outputs": [],
   "source": [
    "df4=pd.concat([df1,df2],axis=1) #合併2個 DataFrame, 左右(行)"
   ]
  },
  {
   "cell_type": "code",
   "execution_count": 19,
   "id": "f8a42975",
   "metadata": {},
   "outputs": [
    {
     "data": {
      "text/html": [
       "<div>\n",
       "<style scoped>\n",
       "    .dataframe tbody tr th:only-of-type {\n",
       "        vertical-align: middle;\n",
       "    }\n",
       "\n",
       "    .dataframe tbody tr th {\n",
       "        vertical-align: top;\n",
       "    }\n",
       "\n",
       "    .dataframe thead th {\n",
       "        text-align: right;\n",
       "    }\n",
       "</style>\n",
       "<table border=\"1\" class=\"dataframe\">\n",
       "  <thead>\n",
       "    <tr style=\"text-align: right;\">\n",
       "      <th></th>\n",
       "      <th>A</th>\n",
       "      <th>B</th>\n",
       "      <th>C</th>\n",
       "      <th>A</th>\n",
       "      <th>B</th>\n",
       "      <th>C</th>\n",
       "    </tr>\n",
       "  </thead>\n",
       "  <tbody>\n",
       "    <tr>\n",
       "      <th>0</th>\n",
       "      <td>1.923789</td>\n",
       "      <td>-0.101074</td>\n",
       "      <td>-1.871013</td>\n",
       "      <td>-0.739004</td>\n",
       "      <td>-0.420473</td>\n",
       "      <td>0.946682</td>\n",
       "    </tr>\n",
       "    <tr>\n",
       "      <th>1</th>\n",
       "      <td>0.538424</td>\n",
       "      <td>0.886102</td>\n",
       "      <td>-1.359137</td>\n",
       "      <td>-0.447121</td>\n",
       "      <td>-0.722117</td>\n",
       "      <td>1.061374</td>\n",
       "    </tr>\n",
       "    <tr>\n",
       "      <th>2</th>\n",
       "      <td>-0.174592</td>\n",
       "      <td>-0.046528</td>\n",
       "      <td>0.380811</td>\n",
       "      <td>-0.172913</td>\n",
       "      <td>-0.447106</td>\n",
       "      <td>-0.517997</td>\n",
       "    </tr>\n",
       "    <tr>\n",
       "      <th>3</th>\n",
       "      <td>1.472452</td>\n",
       "      <td>-0.115733</td>\n",
       "      <td>-0.097869</td>\n",
       "      <td>NaN</td>\n",
       "      <td>NaN</td>\n",
       "      <td>NaN</td>\n",
       "    </tr>\n",
       "  </tbody>\n",
       "</table>\n",
       "</div>"
      ],
      "text/plain": [
       "          A         B         C         A         B         C\n",
       "0  1.923789 -0.101074 -1.871013 -0.739004 -0.420473  0.946682\n",
       "1  0.538424  0.886102 -1.359137 -0.447121 -0.722117  1.061374\n",
       "2 -0.174592 -0.046528  0.380811 -0.172913 -0.447106 -0.517997\n",
       "3  1.472452 -0.115733 -0.097869       NaN       NaN       NaN"
      ]
     },
     "execution_count": 19,
     "metadata": {},
     "output_type": "execute_result"
    }
   ],
   "source": [
    "df4"
   ]
  },
  {
   "cell_type": "code",
   "execution_count": 21,
   "id": "88c3467e",
   "metadata": {},
   "outputs": [],
   "source": [
    "pd.concat?"
   ]
  },
  {
   "cell_type": "code",
   "execution_count": 25,
   "id": "899ae9ff",
   "metadata": {},
   "outputs": [
    {
     "data": {
      "text/html": [
       "<div>\n",
       "<style scoped>\n",
       "    .dataframe tbody tr th:only-of-type {\n",
       "        vertical-align: middle;\n",
       "    }\n",
       "\n",
       "    .dataframe tbody tr th {\n",
       "        vertical-align: top;\n",
       "    }\n",
       "\n",
       "    .dataframe thead th {\n",
       "        text-align: right;\n",
       "    }\n",
       "</style>\n",
       "<table border=\"1\" class=\"dataframe\">\n",
       "  <thead>\n",
       "    <tr style=\"text-align: right;\">\n",
       "      <th></th>\n",
       "      <th>A</th>\n",
       "      <th>B</th>\n",
       "      <th>C</th>\n",
       "      <th>A</th>\n",
       "      <th>B</th>\n",
       "      <th>C</th>\n",
       "    </tr>\n",
       "  </thead>\n",
       "  <tbody>\n",
       "    <tr>\n",
       "      <th>0</th>\n",
       "      <td>1.923789</td>\n",
       "      <td>-0.101074</td>\n",
       "      <td>-1.871013</td>\n",
       "      <td>-0.739004</td>\n",
       "      <td>-0.420473</td>\n",
       "      <td>0.946682</td>\n",
       "    </tr>\n",
       "    <tr>\n",
       "      <th>1</th>\n",
       "      <td>0.538424</td>\n",
       "      <td>0.886102</td>\n",
       "      <td>-1.359137</td>\n",
       "      <td>-0.447121</td>\n",
       "      <td>-0.722117</td>\n",
       "      <td>1.061374</td>\n",
       "    </tr>\n",
       "    <tr>\n",
       "      <th>2</th>\n",
       "      <td>-0.174592</td>\n",
       "      <td>-0.046528</td>\n",
       "      <td>0.380811</td>\n",
       "      <td>-0.172913</td>\n",
       "      <td>-0.447106</td>\n",
       "      <td>-0.517997</td>\n",
       "    </tr>\n",
       "    <tr>\n",
       "      <th>3</th>\n",
       "      <td>1.472452</td>\n",
       "      <td>-0.115733</td>\n",
       "      <td>-0.097869</td>\n",
       "      <td>NaN</td>\n",
       "      <td>NaN</td>\n",
       "      <td>NaN</td>\n",
       "    </tr>\n",
       "  </tbody>\n",
       "</table>\n",
       "</div>"
      ],
      "text/plain": [
       "          A         B         C         A         B         C\n",
       "0  1.923789 -0.101074 -1.871013 -0.739004 -0.420473  0.946682\n",
       "1  0.538424  0.886102 -1.359137 -0.447121 -0.722117  1.061374\n",
       "2 -0.174592 -0.046528  0.380811 -0.172913 -0.447106 -0.517997\n",
       "3  1.472452 -0.115733 -0.097869       NaN       NaN       NaN"
      ]
     },
     "execution_count": 25,
     "metadata": {},
     "output_type": "execute_result"
    }
   ],
   "source": [
    "df4"
   ]
  },
  {
   "cell_type": "code",
   "execution_count": 29,
   "id": "58aac196",
   "metadata": {},
   "outputs": [],
   "source": [
    "df4.columns=list(\"123456\") #修改欄位名稱"
   ]
  },
  {
   "cell_type": "code",
   "execution_count": 30,
   "id": "aa7716e4",
   "metadata": {},
   "outputs": [
    {
     "data": {
      "text/html": [
       "<div>\n",
       "<style scoped>\n",
       "    .dataframe tbody tr th:only-of-type {\n",
       "        vertical-align: middle;\n",
       "    }\n",
       "\n",
       "    .dataframe tbody tr th {\n",
       "        vertical-align: top;\n",
       "    }\n",
       "\n",
       "    .dataframe thead th {\n",
       "        text-align: right;\n",
       "    }\n",
       "</style>\n",
       "<table border=\"1\" class=\"dataframe\">\n",
       "  <thead>\n",
       "    <tr style=\"text-align: right;\">\n",
       "      <th></th>\n",
       "      <th>1</th>\n",
       "      <th>2</th>\n",
       "      <th>3</th>\n",
       "      <th>4</th>\n",
       "      <th>5</th>\n",
       "      <th>6</th>\n",
       "    </tr>\n",
       "  </thead>\n",
       "  <tbody>\n",
       "    <tr>\n",
       "      <th>0</th>\n",
       "      <td>1.923789</td>\n",
       "      <td>-0.101074</td>\n",
       "      <td>-1.871013</td>\n",
       "      <td>-0.739004</td>\n",
       "      <td>-0.420473</td>\n",
       "      <td>0.946682</td>\n",
       "    </tr>\n",
       "    <tr>\n",
       "      <th>1</th>\n",
       "      <td>0.538424</td>\n",
       "      <td>0.886102</td>\n",
       "      <td>-1.359137</td>\n",
       "      <td>-0.447121</td>\n",
       "      <td>-0.722117</td>\n",
       "      <td>1.061374</td>\n",
       "    </tr>\n",
       "    <tr>\n",
       "      <th>2</th>\n",
       "      <td>-0.174592</td>\n",
       "      <td>-0.046528</td>\n",
       "      <td>0.380811</td>\n",
       "      <td>-0.172913</td>\n",
       "      <td>-0.447106</td>\n",
       "      <td>-0.517997</td>\n",
       "    </tr>\n",
       "    <tr>\n",
       "      <th>3</th>\n",
       "      <td>1.472452</td>\n",
       "      <td>-0.115733</td>\n",
       "      <td>-0.097869</td>\n",
       "      <td>NaN</td>\n",
       "      <td>NaN</td>\n",
       "      <td>NaN</td>\n",
       "    </tr>\n",
       "  </tbody>\n",
       "</table>\n",
       "</div>"
      ],
      "text/plain": [
       "          1         2         3         4         5         6\n",
       "0  1.923789 -0.101074 -1.871013 -0.739004 -0.420473  0.946682\n",
       "1  0.538424  0.886102 -1.359137 -0.447121 -0.722117  1.061374\n",
       "2 -0.174592 -0.046528  0.380811 -0.172913 -0.447106 -0.517997\n",
       "3  1.472452 -0.115733 -0.097869       NaN       NaN       NaN"
      ]
     },
     "execution_count": 30,
     "metadata": {},
     "output_type": "execute_result"
    }
   ],
   "source": [
    "df4"
   ]
  },
  {
   "cell_type": "code",
   "execution_count": null,
   "id": "43fc52de",
   "metadata": {},
   "outputs": [],
   "source": []
  }
 ],
 "metadata": {
  "kernelspec": {
   "display_name": "Python 3 (ipykernel)",
   "language": "python",
   "name": "python3"
  },
  "language_info": {
   "codemirror_mode": {
    "name": "ipython",
    "version": 3
   },
   "file_extension": ".py",
   "mimetype": "text/x-python",
   "name": "python",
   "nbconvert_exporter": "python",
   "pygments_lexer": "ipython3",
   "version": "3.9.13"
  }
 },
 "nbformat": 4,
 "nbformat_minor": 5
}
