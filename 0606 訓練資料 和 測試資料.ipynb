{
 "cells": [
  {
   "cell_type": "code",
   "execution_count": 1,
   "id": "7780cb45",
   "metadata": {},
   "outputs": [],
   "source": [
    "%matplotlib inline\n",
    "\n",
    "import numpy as np\n",
    "import matplotlib.pyplot as plt"
   ]
  },
  {
   "cell_type": "code",
   "execution_count": 2,
   "id": "0e573d07",
   "metadata": {},
   "outputs": [],
   "source": [
    "x=np.linspace(0,5,100)\n",
    "y=1.2*x+0.8+0.5*np.random.randn(100)"
   ]
  },
  {
   "cell_type": "code",
   "execution_count": 4,
   "id": "e47b4097",
   "metadata": {},
   "outputs": [
    {
     "data": {
      "text/plain": [
       "<matplotlib.collections.PathCollection at 0x19fa3af16d0>"
      ]
     },
     "execution_count": 4,
     "metadata": {},
     "output_type": "execute_result"
    },
    {
     "data": {
      "image/png": "[encoded data removed]",
      "text/plain": [
       "<Figure size 640x480 with 1 Axes>"
      ]
     },
     "metadata": {},
     "output_type": "display_data"
    }
   ],
   "source": [
    "plt.scatter(x,y)  #我們的 100筆 訓練資料"
   ]
  },
  {
   "cell_type": "markdown",
   "id": "6c25ee66",
   "metadata": {},
   "source": [
    "## trainning data 如果預測的很好, 可是 testing data 非常不像, 這時候就是 Overfitting"
   ]
  },
  {
   "cell_type": "markdown",
   "id": "fc9bde97",
   "metadata": {},
   "source": [
    "## 標準函數訓練及測試\n",
    "\n",
    "### 分訓練資料、測試資料\n",
    "\n",
    "一般我們想要看算出來的逼近函數在預測上是不是可靠, 會把一些資料留給「測試」, 就是不讓電腦在計算時「看到」這些測試資料。等函數學成了以後, 再來測試準不準確。這是我們可以用\n",
    "\n",
    "    sklearn.model_selection\n",
    "    \n",
    "裡的\n",
    "\n",
    "    train_test_split\n",
    "    \n",
    "來亂數選一定百分比的資料來用。"
   ]
  },
  {
   "cell_type": "code",
   "execution_count": 5,
   "id": "8abeeff9",
   "metadata": {},
   "outputs": [],
   "source": [
    "from sklearn.model_selection import train_test_split"
   ]
  },
  {
   "cell_type": "markdown",
   "id": "8f0f1d96",
   "metadata": {},
   "source": [
    "### 把原來的 `x`, `y` 中的 80% 給 training data, 20% 給 testing data。"
   ]
  },
  {
   "cell_type": "markdown",
   "id": "e0b6dd01",
   "metadata": {},
   "source": [
    "輸入的訓練資料，輸入的測試資料，輸出的訓練資料，輸出的測試資料 = \n",
    "train_test_split(x, y, test_size=分割給test的比例, random_state=隨便給一個數字)"
   ]
  },
  {
   "cell_type": "code",
   "execution_count": 7,
   "id": "71bff8aa",
   "metadata": {},
   "outputs": [],
   "source": [
    "x_train, x_test, y_train, y_test=train_test_split(x, y,\n",
    "                                                 test_size=0.2,\n",
    "                                                  random_state=87)"
   ]
  },
  {
   "cell_type": "code",
   "execution_count": 9,
   "id": "c6a73499",
   "metadata": {},
   "outputs": [
    {
     "data": {
      "text/plain": [
       "80"
      ]
     },
     "execution_count": 9,
     "metadata": {},
     "output_type": "execute_result"
    }
   ],
   "source": [
    "len(x_train)"
   ]
  },
  {
   "cell_type": "code",
   "execution_count": 10,
   "id": "aa92bb2c",
   "metadata": {},
   "outputs": [
    {
     "data": {
      "text/plain": [
       "20"
      ]
     },
     "execution_count": 10,
     "metadata": {},
     "output_type": "execute_result"
    }
   ],
   "source": [
    "len(x_test)"
   ]
  },
  {
   "cell_type": "code",
   "execution_count": 12,
   "id": "7ab38ad2",
   "metadata": {},
   "outputs": [],
   "source": [
    "x_train = x_train.reshape(80,1)"
   ]
  },
  {
   "cell_type": "code",
   "execution_count": 16,
   "id": "d269a315",
   "metadata": {},
   "outputs": [
    {
     "data": {
      "text/plain": [
       "(20,)"
      ]
     },
     "execution_count": 16,
     "metadata": {},
     "output_type": "execute_result"
    }
   ],
   "source": [
    "x_test.shape"
   ]
  },
  {
   "cell_type": "code",
   "execution_count": 17,
   "id": "6e5c3811",
   "metadata": {},
   "outputs": [],
   "source": [
    "x_test.shape=(20,1)"
   ]
  },
  {
   "cell_type": "code",
   "execution_count": 18,
   "id": "416c82d1",
   "metadata": {},
   "outputs": [
    {
     "data": {
      "text/plain": [
       "array([[0.80808081],\n",
       "       [4.09090909],\n",
       "       [4.29292929],\n",
       "       [1.61616162],\n",
       "       [1.96969697],\n",
       "       [1.26262626],\n",
       "       [1.31313131],\n",
       "       [1.46464646],\n",
       "       [3.28282828],\n",
       "       [0.35353535],\n",
       "       [4.24242424],\n",
       "       [5.        ],\n",
       "       [2.92929293],\n",
       "       [3.53535354],\n",
       "       [4.64646465],\n",
       "       [3.73737374],\n",
       "       [0.15151515],\n",
       "       [0.        ],\n",
       "       [2.22222222],\n",
       "       [1.66666667]])"
      ]
     },
     "execution_count": 18,
     "metadata": {},
     "output_type": "execute_result"
    }
   ],
   "source": [
    "x_test"
   ]
  },
  {
   "cell_type": "markdown",
   "id": "12068e32",
   "metadata": {},
   "source": [
    "### 我們在「訓練」這個函數時，只有以下這些資料。"
   ]
  },
  {
   "cell_type": "code",
   "execution_count": 19,
   "id": "413a402f",
   "metadata": {},
   "outputs": [],
   "source": [
    "from sklearn.linear_model import LinearRegression"
   ]
  },
  {
   "cell_type": "code",
   "execution_count": 20,
   "id": "aa23479d",
   "metadata": {},
   "outputs": [],
   "source": [
    "regr=LinearRegression()"
   ]
  },
  {
   "cell_type": "code",
   "execution_count": 21,
   "id": "6799e774",
   "metadata": {},
   "outputs": [
    {
     "data": {
      "text/plain": [
       "LinearRegression()"
      ]
     },
     "execution_count": 21,
     "metadata": {},
     "output_type": "execute_result"
    }
   ],
   "source": [
    "regr.fit(x_train,y_train)  #做訓練"
   ]
  },
  {
   "cell_type": "code",
   "execution_count": 23,
   "id": "241a24e3",
   "metadata": {
    "scrolled": false
   },
   "outputs": [
    {
     "data": {
      "text/plain": [
       "[<matplotlib.lines.Line2D at 0x19fa7d29610>]"
      ]
     },
     "execution_count": 23,
     "metadata": {},
     "output_type": "execute_result"
    },
    {
     "data": {
      "image/png": "[encoded data removed]",
      "text/plain": [
       "<Figure size 640x480 with 1 Axes>"
      ]
     },
     "metadata": {},
     "output_type": "display_data"
    }
   ],
   "source": [
    "plt.scatter(x_train,y_train)\n",
    "plt.plot(x_train,regr.predict(x_train),'r')"
   ]
  },
  {
   "cell_type": "code",
   "execution_count": null,
   "id": "addb036e",
   "metadata": {},
   "outputs": [],
   "source": []
  },
  {
   "cell_type": "markdown",
   "id": "6d422706",
   "metadata": {},
   "source": [
    "### 用訓練資料來 fit 函數\n",
    "記得現在我們只用 80% 的資料去訓練"
   ]
  },
  {
   "cell_type": "markdown",
   "id": "dd487e2f",
   "metadata": {},
   "source": [
    "### 用測試資料試試我們預測準不準"
   ]
  },
  {
   "cell_type": "code",
   "execution_count": 25,
   "id": "0979c442",
   "metadata": {},
   "outputs": [
    {
     "data": {
      "text/plain": [
       "[<matplotlib.lines.Line2D at 0x19fa8252790>]"
      ]
     },
     "execution_count": 25,
     "metadata": {},
     "output_type": "execute_result"
    },
    {
     "data": {
      "image/png": "[encoded data removed]",
      "text/plain": [
       "<Figure size 640x480 with 1 Axes>"
      ]
     },
     "metadata": {},
     "output_type": "display_data"
    }
   ],
   "source": [
    "plt.scatter(x_test,y_test)\n",
    "plt.plot(x_test,regr.predict(x_test),'r')"
   ]
  },
  {
   "cell_type": "code",
   "execution_count": null,
   "id": "ba8dc03c",
   "metadata": {},
   "outputs": [],
   "source": []
  }
 ],
 "metadata": {
  "kernelspec": {
   "display_name": "Python 3 (ipykernel)",
   "language": "python",
   "name": "python3"
  },
  "language_info": {
   "codemirror_mode": {
    "name": "ipython",
    "version": 3
   },
   "file_extension": ".py",
   "mimetype": "text/x-python",
   "name": "python",
   "nbconvert_exporter": "python",
   "pygments_lexer": "ipython3",
   "version": "3.9.13"
  }
 },
 "nbformat": 4,
 "nbformat_minor": 5
}
