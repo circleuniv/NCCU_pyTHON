{
 "cells": [
  {
   "cell_type": "markdown",
   "id": "0e822285",
   "metadata": {},
   "source": [
    "# 數字變數"
   ]
  },
  {
   "cell_type": "code",
   "execution_count": 1,
   "id": "25e7a599",
   "metadata": {},
   "outputs": [],
   "source": [
    "a=3"
   ]
  },
  {
   "cell_type": "code",
   "execution_count": 2,
   "id": "723e8e92",
   "metadata": {},
   "outputs": [
    {
     "data": {
      "text/plain": [
       "10"
      ]
     },
     "execution_count": 2,
     "metadata": {},
     "output_type": "execute_result"
    }
   ],
   "source": [
    "a+7"
   ]
  },
  {
   "cell_type": "code",
   "execution_count": 3,
   "id": "ba2b138e",
   "metadata": {},
   "outputs": [],
   "source": [
    "a=87"
   ]
  },
  {
   "cell_type": "code",
   "execution_count": 4,
   "id": "acc0ee5b",
   "metadata": {},
   "outputs": [
    {
     "data": {
      "text/plain": [
       "87"
      ]
     },
     "execution_count": 4,
     "metadata": {},
     "output_type": "execute_result"
    }
   ],
   "source": [
    "a"
   ]
  },
  {
   "cell_type": "code",
   "execution_count": 5,
   "id": "75c3b9fa",
   "metadata": {},
   "outputs": [
    {
     "data": {
      "text/plain": [
       "7569"
      ]
     },
     "execution_count": 5,
     "metadata": {},
     "output_type": "execute_result"
    }
   ],
   "source": [
    "a**2"
   ]
  },
  {
   "cell_type": "code",
   "execution_count": 6,
   "id": "26cdba4f",
   "metadata": {},
   "outputs": [],
   "source": [
    "total=128+65+77"
   ]
  },
  {
   "cell_type": "code",
   "execution_count": 7,
   "id": "4b355a96",
   "metadata": {},
   "outputs": [
    {
     "data": {
      "text/plain": [
       "270"
      ]
     },
     "execution_count": 7,
     "metadata": {},
     "output_type": "execute_result"
    }
   ],
   "source": [
    "total"
   ]
  },
  {
   "cell_type": "code",
   "execution_count": 8,
   "id": "59b3b66a",
   "metadata": {},
   "outputs": [
    {
     "data": {
      "text/plain": [
       "8235.0"
      ]
     },
     "execution_count": 8,
     "metadata": {},
     "output_type": "execute_result"
    }
   ],
   "source": [
    "total * 30.5"
   ]
  },
  {
   "cell_type": "markdown",
   "id": "b337159c",
   "metadata": {},
   "source": [
    "# 變數名稱可以用中文"
   ]
  },
  {
   "cell_type": "code",
   "execution_count": 9,
   "id": "4207d2b6",
   "metadata": {},
   "outputs": [],
   "source": [
    "底 = 3\n",
    "高 = 5"
   ]
  },
  {
   "cell_type": "code",
   "execution_count": 10,
   "id": "d9cde421",
   "metadata": {},
   "outputs": [
    {
     "data": {
      "text/plain": [
       "3"
      ]
     },
     "execution_count": 10,
     "metadata": {},
     "output_type": "execute_result"
    }
   ],
   "source": [
    "底"
   ]
  },
  {
   "cell_type": "code",
   "execution_count": 11,
   "id": "ff09386a",
   "metadata": {},
   "outputs": [],
   "source": [
    "面積=(底*高)/2"
   ]
  },
  {
   "cell_type": "code",
   "execution_count": 12,
   "id": "bb4723c4",
   "metadata": {},
   "outputs": [
    {
     "data": {
      "text/plain": [
       "7.5"
      ]
     },
     "execution_count": 12,
     "metadata": {},
     "output_type": "execute_result"
    }
   ],
   "source": [
    "面積"
   ]
  },
  {
   "cell_type": "code",
   "execution_count": null,
   "id": "a7ef304a",
   "metadata": {},
   "outputs": [],
   "source": []
  }
 ],
 "metadata": {
  "kernelspec": {
   "display_name": "Python 3 (ipykernel)",
   "language": "python",
   "name": "python3"
  },
  "language_info": {
   "codemirror_mode": {
    "name": "ipython",
    "version": 3
   },
   "file_extension": ".py",
   "mimetype": "text/x-python",
   "name": "python",
   "nbconvert_exporter": "python",
   "pygments_lexer": "ipython3",
   "version": "3.9.13"
  }
 },
 "nbformat": 4,
 "nbformat_minor": 5
}
