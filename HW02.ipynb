{
 "cells": [
  {
   "cell_type": "markdown",
   "id": "c480fa00",
   "metadata": {},
   "source": [
    "# 猜數字遊戲(給AI猜)"
   ]
  },
  {
   "cell_type": "code",
   "execution_count": 18,
   "id": "173d6dc4",
   "metadata": {},
   "outputs": [],
   "source": [
    "import numpy as np"
   ]
  },
  {
   "cell_type": "code",
   "execution_count": 19,
   "id": "016266f8",
   "metadata": {},
   "outputs": [],
   "source": [
    "import matplotlib.pylab as plab"
   ]
  },
  {
   "cell_type": "markdown",
   "id": "c50c4946",
   "metadata": {},
   "source": [
    "## 可以先了解，要怎麼使用 plab.randint"
   ]
  },
  {
   "cell_type": "code",
   "execution_count": 20,
   "id": "4405e0e1",
   "metadata": {},
   "outputs": [],
   "source": [
    "plab.randint?"
   ]
  },
  {
   "cell_type": "markdown",
   "id": "79c41cc9",
   "metadata": {},
   "source": [
    "## 根據說明, 取一個 自 1~100 (包括頭尾) 的隨機數值"
   ]
  },
  {
   "cell_type": "code",
   "execution_count": 21,
   "id": "41783ca1",
   "metadata": {},
   "outputs": [],
   "source": [
    "l=plab.randint(1,101)"
   ]
  },
  {
   "cell_type": "code",
   "execution_count": 22,
   "id": "d7821e5f",
   "metadata": {},
   "outputs": [
    {
     "data": {
      "text/plain": [
       "23"
      ]
     },
     "execution_count": 22,
     "metadata": {},
     "output_type": "execute_result"
    }
   ],
   "source": [
    "l"
   ]
  },
  {
   "cell_type": "markdown",
   "id": "0d8f63bd",
   "metadata": {},
   "source": [
    "## 換你當主人設一個1~100的數值 讓 AI 猜，且，AI不會 重複猜錯\n",
    "### ※注意 主人如果設值 不在範圍之內，AI 就會生氣走開，不作答了。\n",
    "### ※注意 主人如果亂設不是數值的東西，也會出錯，因為 處理例外 超過進度範圍，就先不加進來了。"
   ]
  },
  {
   "cell_type": "code",
   "execution_count": 51,
   "id": "3d2f67fd",
   "metadata": {},
   "outputs": [
    {
     "name": "stdout",
     "output_type": "stream",
     "text": [
      "這次換你當主人，請您輸入1~100的數字, 讓AI猜：96\n",
      "我猜: 77 太小了!\n",
      "我猜: 82 太小了!\n",
      "我猜: 95 太小了!\n",
      "我猜: 97 太大了!\n",
      "我猜到了, 你的答案是: 96\n",
      "答對了, 恭喜! bye~\n"
     ]
    }
   ],
   "source": [
    "key=int(input(\"這次換你當主人，請您輸入1~100的數字, 讓AI猜：\"))\n",
    "start=1\n",
    "end=101\n",
    "if key in list(range(start,end)):\n",
    "    \n",
    "    while True:\n",
    "        guess=plab.randint(start, end)   \n",
    "        if(key==guess):\n",
    "            print(f\"我猜到了, 你的答案是: {str(key)}\")\n",
    "            break\n",
    "        elif(key>guess):\n",
    "            print(f\"我猜: {guess} 太小了!\")\n",
    "            start=guess+1\n",
    "            #print(start,end)\n",
    "        else:\n",
    "            print(f\"我猜: {guess} 太大了!\")\n",
    "            end=guess\n",
    "            #print(start,end)\n",
    "    print(\"答對了, 恭喜! bye~\")\n",
    "else:\n",
    "    print(\"就算是主人, 也不能輸入超過範圍, bye!\")"
   ]
  }
 ],
 "metadata": {
  "kernelspec": {
   "display_name": "Python 3 (ipykernel)",
   "language": "python",
   "name": "python3"
  },
  "language_info": {
   "codemirror_mode": {
    "name": "ipython",
    "version": 3
   },
   "file_extension": ".py",
   "mimetype": "text/x-python",
   "name": "python",
   "nbconvert_exporter": "python",
   "pygments_lexer": "ipython3",
   "version": "3.9.13"
  }
 },
 "nbformat": 4,
 "nbformat_minor": 5
}
