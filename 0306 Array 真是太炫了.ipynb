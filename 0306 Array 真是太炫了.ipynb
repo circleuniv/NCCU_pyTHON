{
 "cells": [
  {
   "cell_type": "code",
   "execution_count": 1,
   "id": "470779e6",
   "metadata": {},
   "outputs": [],
   "source": [
    "%matplotlib inline\n",
    "import numpy as np\n",
    "import matplotlib.pyplot as plt"
   ]
  },
  {
   "cell_type": "code",
   "execution_count": 2,
   "id": "bb402469",
   "metadata": {},
   "outputs": [],
   "source": [
    "p=[1096.95, 596.95, 896.95]"
   ]
  },
  {
   "cell_type": "code",
   "execution_count": 3,
   "id": "26a9465b",
   "metadata": {},
   "outputs": [],
   "source": [
    "c=30.1"
   ]
  },
  {
   "cell_type": "code",
   "execution_count": 5,
   "id": "8bd1d131",
   "metadata": {},
   "outputs": [],
   "source": [
    "np.array?"
   ]
  },
  {
   "cell_type": "code",
   "execution_count": 6,
   "id": "a605e859",
   "metadata": {},
   "outputs": [],
   "source": [
    "prices=np.array(p)"
   ]
  },
  {
   "cell_type": "code",
   "execution_count": 7,
   "id": "cd3be309",
   "metadata": {},
   "outputs": [
    {
     "data": {
      "text/plain": [
       "array([1096.95,  596.95,  896.95])"
      ]
     },
     "execution_count": 7,
     "metadata": {},
     "output_type": "execute_result"
    }
   ],
   "source": [
    "prices"
   ]
  },
  {
   "cell_type": "code",
   "execution_count": 8,
   "id": "8df1ba76",
   "metadata": {},
   "outputs": [
    {
     "name": "stdout",
     "output_type": "stream",
     "text": [
      "[1096.95  596.95  896.95]\n"
     ]
    }
   ],
   "source": [
    "print(prices)"
   ]
  },
  {
   "cell_type": "code",
   "execution_count": 9,
   "id": "21547874",
   "metadata": {},
   "outputs": [
    {
     "data": {
      "text/plain": [
       "array([33018.195, 17968.195, 26998.195])"
      ]
     },
     "execution_count": 9,
     "metadata": {},
     "output_type": "execute_result"
    }
   ],
   "source": [
    "prices*c"
   ]
  },
  {
   "cell_type": "markdown",
   "id": "e469b202",
   "metadata": {},
   "source": [
    "## ※不到最後關頭，絕不輕言使用List"
   ]
  },
  {
   "cell_type": "code",
   "execution_count": null,
   "id": "c59f35b2",
   "metadata": {},
   "outputs": [],
   "source": []
  }
 ],
 "metadata": {
  "kernelspec": {
   "display_name": "Python 3 (ipykernel)",
   "language": "python",
   "name": "python3"
  },
  "language_info": {
   "codemirror_mode": {
    "name": "ipython",
    "version": 3
   },
   "file_extension": ".py",
   "mimetype": "text/x-python",
   "name": "python",
   "nbconvert_exporter": "python",
   "pygments_lexer": "ipython3",
   "version": "3.9.13"
  }
 },
 "nbformat": 4,
 "nbformat_minor": 5
}
