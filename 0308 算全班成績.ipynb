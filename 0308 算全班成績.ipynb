{
 "cells": [
  {
   "cell_type": "code",
   "execution_count": 1,
   "id": "d0f48f06",
   "metadata": {},
   "outputs": [],
   "source": [
    "%matplotlib inline\n",
    "import numpy as np\n",
    "import matplotlib.pyplot as plt"
   ]
  },
  {
   "cell_type": "code",
   "execution_count": 4,
   "id": "fdeafe25",
   "metadata": {},
   "outputs": [],
   "source": [
    "grades=np.array([[85,70,82],\n",
    "        [75,92,85],\n",
    "        [66,67,64],\n",
    "        [87,94,60]])"
   ]
  },
  {
   "cell_type": "code",
   "execution_count": 5,
   "id": "5fa159cb",
   "metadata": {},
   "outputs": [],
   "source": [
    "weight=np.array([0.3,0.4,0.3])"
   ]
  },
  {
   "cell_type": "code",
   "execution_count": 6,
   "id": "410a9da3",
   "metadata": {},
   "outputs": [
    {
     "data": {
      "text/plain": [
       "array([78.1, 84.8, 65.8, 81.7])"
      ]
     },
     "execution_count": 6,
     "metadata": {},
     "output_type": "execute_result"
    }
   ],
   "source": [
    "np.dot(grades,weight)"
   ]
  },
  {
   "cell_type": "code",
   "execution_count": 7,
   "id": "50039bb2",
   "metadata": {},
   "outputs": [],
   "source": [
    "L=np.array([3,5,7,9])"
   ]
  },
  {
   "cell_type": "code",
   "execution_count": 8,
   "id": "d4f2a71f",
   "metadata": {},
   "outputs": [
    {
     "data": {
      "text/plain": [
       "array([ 9, 15, 21, 27])"
      ]
     },
     "execution_count": 8,
     "metadata": {},
     "output_type": "execute_result"
    }
   ],
   "source": [
    "L*3"
   ]
  },
  {
   "cell_type": "code",
   "execution_count": null,
   "id": "c010dfe8",
   "metadata": {},
   "outputs": [],
   "source": []
  }
 ],
 "metadata": {
  "kernelspec": {
   "display_name": "Python 3 (ipykernel)",
   "language": "python",
   "name": "python3"
  },
  "language_info": {
   "codemirror_mode": {
    "name": "ipython",
    "version": 3
   },
   "file_extension": ".py",
   "mimetype": "text/x-python",
   "name": "python",
   "nbconvert_exporter": "python",
   "pygments_lexer": "ipython3",
   "version": "3.9.13"
  }
 },
 "nbformat": 4,
 "nbformat_minor": 5
}
