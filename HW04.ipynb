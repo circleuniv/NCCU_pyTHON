{
 "cells": [
  {
   "cell_type": "markdown",
   "id": "d9e88131",
   "metadata": {},
   "source": [
    "# 讓使用者輸入半徑，然後使用 ipywidgets 計算圓周長和面積。"
   ]
  },
  {
   "cell_type": "code",
   "execution_count": 15,
   "id": "6b066723",
   "metadata": {},
   "outputs": [],
   "source": [
    "%matplotlib inline\n",
    "import numpy as np\n",
    "import matplotlib.pyplot as plt"
   ]
  },
  {
   "cell_type": "code",
   "execution_count": 16,
   "id": "12f5e367",
   "metadata": {},
   "outputs": [],
   "source": [
    "from ipywidgets import interact_manual"
   ]
  },
  {
   "cell_type": "code",
   "execution_count": 17,
   "id": "2f5459bc",
   "metadata": {},
   "outputs": [],
   "source": [
    "def circle(r):\n",
    "    r=float(r)\n",
    "    圓周長=2*3.14*r\n",
    "    面積=3.14*(r**2)\n",
    "    print('''圓周長: {:.2f}\n",
    "面積: {:.2f}'''.format(圓周長, 面積))"
   ]
  },
  {
   "cell_type": "markdown",
   "id": "e28cf747",
   "metadata": {},
   "source": [
    "### 輸入半徑 算值\n",
    "\n",
    "* 請覆蓋原來的文字\n",
    "* 注意, 只能輸入數字, 因為沒有做例外的處理\n",
    "* 輸入完按下Run Interact 或 Shift+Ener"
   ]
  },
  {
   "cell_type": "code",
   "execution_count": 20,
   "id": "ad30209f",
   "metadata": {},
   "outputs": [
    {
     "data": {
      "application/vnd.jupyter.widget-view+json": {
       "model_id": "3f5b9a53f6ff490c80c92c447b2c4b07",
       "version_major": 2,
       "version_minor": 0
      },
      "text/plain": [
       "interactive(children=(Text(value='請輸入半徑', description='r'), Button(description='Run Interact', style=ButtonSty…"
      ]
     },
     "metadata": {},
     "output_type": "display_data"
    },
    {
     "data": {
      "text/plain": [
       "<function __main__.circle(r)>"
      ]
     },
     "execution_count": 20,
     "metadata": {},
     "output_type": "execute_result"
    }
   ],
   "source": [
    "interact_manual(circle,r=\"請輸入半徑\")"
   ]
  },
  {
   "cell_type": "code",
   "execution_count": null,
   "id": "b4b840f5",
   "metadata": {},
   "outputs": [],
   "source": []
  }
 ],
 "metadata": {
  "kernelspec": {
   "display_name": "Python 3 (ipykernel)",
   "language": "python",
   "name": "python3"
  },
  "language_info": {
   "codemirror_mode": {
    "name": "ipython",
    "version": 3
   },
   "file_extension": ".py",
   "mimetype": "text/x-python",
   "name": "python",
   "nbconvert_exporter": "python",
   "pygments_lexer": "ipython3",
   "version": "3.9.13"
  }
 },
 "nbformat": 4,
 "nbformat_minor": 5
}
