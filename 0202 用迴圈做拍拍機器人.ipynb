{
 "cells": [
  {
   "cell_type": "markdown",
   "id": "b9146b39",
   "metadata": {},
   "source": [
    "# 小技巧"
   ]
  },
  {
   "cell_type": "code",
   "execution_count": 1,
   "id": "1af826e4",
   "metadata": {},
   "outputs": [],
   "source": [
    "a=0"
   ]
  },
  {
   "cell_type": "code",
   "execution_count": 2,
   "id": "dc609829",
   "metadata": {},
   "outputs": [],
   "source": [
    "a=a+1"
   ]
  },
  {
   "cell_type": "code",
   "execution_count": 3,
   "id": "6563a8cd",
   "metadata": {},
   "outputs": [
    {
     "data": {
      "text/plain": [
       "1"
      ]
     },
     "execution_count": 3,
     "metadata": {},
     "output_type": "execute_result"
    }
   ],
   "source": [
    "a"
   ]
  },
  {
   "cell_type": "code",
   "execution_count": 4,
   "id": "79491a11",
   "metadata": {},
   "outputs": [],
   "source": [
    "a=a+1"
   ]
  },
  {
   "cell_type": "code",
   "execution_count": 5,
   "id": "59fc9ebd",
   "metadata": {},
   "outputs": [
    {
     "data": {
      "text/plain": [
       "2"
      ]
     },
     "execution_count": 5,
     "metadata": {},
     "output_type": "execute_result"
    }
   ],
   "source": [
    "a"
   ]
  },
  {
   "cell_type": "code",
   "execution_count": 6,
   "id": "3c5b2fc9",
   "metadata": {},
   "outputs": [],
   "source": [
    "a=a+1"
   ]
  },
  {
   "cell_type": "code",
   "execution_count": 7,
   "id": "bae103a7",
   "metadata": {},
   "outputs": [
    {
     "data": {
      "text/plain": [
       "3"
      ]
     },
     "execution_count": 7,
     "metadata": {},
     "output_type": "execute_result"
    }
   ],
   "source": [
    "a"
   ]
  },
  {
   "cell_type": "markdown",
   "id": "2e4905c2",
   "metadata": {},
   "source": [
    "# 迴圈"
   ]
  },
  {
   "cell_type": "code",
   "execution_count": 2,
   "id": "b11749b2",
   "metadata": {},
   "outputs": [
    {
     "name": "stdout",
     "output_type": "stream",
     "text": [
      "\n",
      "*\n",
      "**\n",
      "***\n",
      "****\n",
      "*****\n",
      "******\n",
      "*******\n",
      "********\n",
      "*********\n"
     ]
    }
   ],
   "source": [
    "s=0\n",
    "while s<10:\n",
    "    print(\"*\"*s)\n",
    "    s=s+1"
   ]
  },
  {
   "cell_type": "code",
   "execution_count": 1,
   "id": "c78cf748",
   "metadata": {},
   "outputs": [
    {
     "name": "stdout",
     "output_type": "stream",
     "text": [
      ">> 今天很難過\n",
      "拍拍\n",
      ">> 程式都不會寫\n",
      "拍拍\n",
      ">> bye\n",
      "拍拍\n"
     ]
    }
   ],
   "source": [
    "message=\"\"\n",
    "while message != \"bye\":\n",
    "    message = input(\">> \")\n",
    "    print(\"拍拍\")"
   ]
  },
  {
   "cell_type": "code",
   "execution_count": null,
   "id": "a80126c7",
   "metadata": {},
   "outputs": [],
   "source": []
  }
 ],
 "metadata": {
  "kernelspec": {
   "display_name": "Python 3 (ipykernel)",
   "language": "python",
   "name": "python3"
  },
  "language_info": {
   "codemirror_mode": {
    "name": "ipython",
    "version": 3
   },
   "file_extension": ".py",
   "mimetype": "text/x-python",
   "name": "python",
   "nbconvert_exporter": "python",
   "pygments_lexer": "ipython3",
   "version": "3.9.13"
  }
 },
 "nbformat": 4,
 "nbformat_minor": 5
}
