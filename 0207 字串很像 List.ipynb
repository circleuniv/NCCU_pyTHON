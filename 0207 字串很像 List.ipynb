{
 "cells": [
  {
   "cell_type": "code",
   "execution_count": 1,
   "id": "7d4baf52",
   "metadata": {},
   "outputs": [],
   "source": [
    "at=\"hello\""
   ]
  },
  {
   "cell_type": "code",
   "execution_count": 2,
   "id": "48eecb1a",
   "metadata": {},
   "outputs": [
    {
     "data": {
      "text/plain": [
       "'llo'"
      ]
     },
     "execution_count": 2,
     "metadata": {},
     "output_type": "execute_result"
    }
   ],
   "source": [
    "at[2:]"
   ]
  },
  {
   "cell_type": "code",
   "execution_count": 4,
   "id": "034263e7",
   "metadata": {},
   "outputs": [
    {
     "data": {
      "text/plain": [
       "'ell'"
      ]
     },
     "execution_count": 4,
     "metadata": {},
     "output_type": "execute_result"
    }
   ],
   "source": [
    "at[1:4]"
   ]
  },
  {
   "cell_type": "code",
   "execution_count": 5,
   "id": "ad50fc90",
   "metadata": {},
   "outputs": [],
   "source": [
    "name=\"陳宥靜\""
   ]
  },
  {
   "cell_type": "code",
   "execution_count": 6,
   "id": "f9e88513",
   "metadata": {},
   "outputs": [
    {
     "data": {
      "text/plain": [
       "'陳'"
      ]
     },
     "execution_count": 6,
     "metadata": {},
     "output_type": "execute_result"
    }
   ],
   "source": [
    "name[0]"
   ]
  },
  {
   "cell_type": "code",
   "execution_count": 7,
   "id": "de8a3298",
   "metadata": {},
   "outputs": [
    {
     "data": {
      "text/plain": [
       "'宥靜'"
      ]
     },
     "execution_count": 7,
     "metadata": {},
     "output_type": "execute_result"
    }
   ],
   "source": [
    "name[1:]"
   ]
  },
  {
   "cell_type": "code",
   "execution_count": null,
   "id": "4447a208",
   "metadata": {},
   "outputs": [],
   "source": []
  }
 ],
 "metadata": {
  "kernelspec": {
   "display_name": "Python 3 (ipykernel)",
   "language": "python",
   "name": "python3"
  },
  "language_info": {
   "codemirror_mode": {
    "name": "ipython",
    "version": 3
   },
   "file_extension": ".py",
   "mimetype": "text/x-python",
   "name": "python",
   "nbconvert_exporter": "python",
   "pygments_lexer": "ipython3",
   "version": "3.9.13"
  }
 },
 "nbformat": 4,
 "nbformat_minor": 5
}
