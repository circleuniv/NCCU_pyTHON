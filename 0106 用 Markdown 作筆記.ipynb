{
 "cells": [
  {
   "cell_type": "code",
   "execution_count": 1,
   "id": "3dd69120",
   "metadata": {},
   "outputs": [
    {
     "data": {
      "text/plain": [
       "12"
      ]
     },
     "execution_count": 1,
     "metadata": {},
     "output_type": "execute_result"
    }
   ],
   "source": [
    "3+9"
   ]
  },
  {
   "cell_type": "markdown",
   "id": "9a93ae52",
   "metadata": {},
   "source": [
    "自由自在作筆記"
   ]
  },
  {
   "cell_type": "markdown",
   "id": "a12c6f5d",
   "metadata": {},
   "source": [
    "# 大標題\n",
    "## 小標題\n",
    "內文在這裡"
   ]
  },
  {
   "cell_type": "markdown",
   "id": "4d133b88",
   "metadata": {},
   "source": [
    "## 分項說明\n",
    "\n",
    "* Python\n",
    "* Jupyter Notebook\n",
    "* Numpy\n",
    "* Pandas\n",
    "* Matplotlib"
   ]
  },
  {
   "cell_type": "markdown",
   "id": "38789ef8",
   "metadata": {},
   "source": [
    "用 '#' 大標題, '##' 次標題, '*' 分項"
   ]
  },
  {
   "cell_type": "markdown",
   "id": "ca14fcb2",
   "metadata": {},
   "source": [
    "## 連結\n",
    "\n",
    "[政大 MOCC 網](https://moocs.nccu.edu.tw)"
   ]
  },
  {
   "cell_type": "markdown",
   "id": "b37548ef",
   "metadata": {},
   "source": [
    "## 插入圖片\n",
    "\n",
    "![小精靈](adTime.jpg)"
   ]
  },
  {
   "cell_type": "markdown",
   "id": "13230e73",
   "metadata": {},
   "source": [
    "## 打數學符號\n",
    "\n",
    "我們有一個函數 $f(x)=x^3-2x^2+5$, 我想給它積分:\n",
    "$$\\int_a^b f(x) \\, dx$$"
   ]
  },
  {
   "cell_type": "code",
   "execution_count": null,
   "id": "db875728",
   "metadata": {},
   "outputs": [],
   "source": []
  }
 ],
 "metadata": {
  "kernelspec": {
   "display_name": "Python 3 (ipykernel)",
   "language": "python",
   "name": "python3"
  },
  "language_info": {
   "codemirror_mode": {
    "name": "ipython",
    "version": 3
   },
   "file_extension": ".py",
   "mimetype": "text/x-python",
   "name": "python",
   "nbconvert_exporter": "python",
   "pygments_lexer": "ipython3",
   "version": "3.9.13"
  }
 },
 "nbformat": 4,
 "nbformat_minor": 5
}
