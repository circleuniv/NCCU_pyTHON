{
 "cells": [
  {
   "cell_type": "markdown",
   "id": "960bd0e9",
   "metadata": {},
   "source": [
    "# Input 指令"
   ]
  },
  {
   "cell_type": "code",
   "execution_count": 1,
   "id": "fd78d24d",
   "metadata": {},
   "outputs": [
    {
     "name": "stdout",
     "output_type": "stream",
     "text": [
      "a=15\n"
     ]
    }
   ],
   "source": [
    "a=input('a=')"
   ]
  },
  {
   "cell_type": "code",
   "execution_count": 2,
   "id": "a54795cb",
   "metadata": {},
   "outputs": [
    {
     "data": {
      "text/plain": [
       "'15'"
      ]
     },
     "execution_count": 2,
     "metadata": {},
     "output_type": "execute_result"
    }
   ],
   "source": [
    "a"
   ]
  },
  {
   "cell_type": "markdown",
   "id": "fe8e4807",
   "metadata": {},
   "source": [
    "# 匯率換算"
   ]
  },
  {
   "cell_type": "code",
   "execution_count": 3,
   "id": "b0cb2f5d",
   "metadata": {},
   "outputs": [
    {
     "name": "stdout",
     "output_type": "stream",
     "text": [
      "黃金價格: 120\n"
     ]
    }
   ],
   "source": [
    "m=input(\"黃金價格: \")"
   ]
  },
  {
   "cell_type": "code",
   "execution_count": 4,
   "id": "040963f9",
   "metadata": {},
   "outputs": [
    {
     "data": {
      "text/plain": [
       "'120'"
      ]
     },
     "execution_count": 4,
     "metadata": {},
     "output_type": "execute_result"
    }
   ],
   "source": [
    "m"
   ]
  },
  {
   "cell_type": "code",
   "execution_count": 5,
   "id": "53d7dd78",
   "metadata": {},
   "outputs": [
    {
     "ename": "TypeError",
     "evalue": "can't multiply sequence by non-int of type 'float'",
     "output_type": "error",
     "traceback": [
      "\u001b[1;31m---------------------------------------------------------------------------\u001b[0m",
      "\u001b[1;31mTypeError\u001b[0m                                 Traceback (most recent call last)",
      "\u001b[1;32m~\\AppData\\Local\\Temp\\ipykernel_13896\\2712930734.py\u001b[0m in \u001b[0;36m<module>\u001b[1;34m\u001b[0m\n\u001b[1;32m----> 1\u001b[1;33m \u001b[0mm\u001b[0m\u001b[1;33m*\u001b[0m\u001b[1;36m3.5\u001b[0m\u001b[1;33m\u001b[0m\u001b[1;33m\u001b[0m\u001b[0m\n\u001b[0m",
      "\u001b[1;31mTypeError\u001b[0m: can't multiply sequence by non-int of type 'float'"
     ]
    }
   ],
   "source": [
    "m*3.5"
   ]
  },
  {
   "cell_type": "code",
   "execution_count": 6,
   "id": "8d42eed6",
   "metadata": {},
   "outputs": [
    {
     "data": {
      "text/plain": [
       "3660.0"
      ]
     },
     "execution_count": 6,
     "metadata": {},
     "output_type": "execute_result"
    }
   ],
   "source": [
    "float(m)*30.5"
   ]
  },
  {
   "cell_type": "code",
   "execution_count": 1,
   "id": "1d61df20",
   "metadata": {},
   "outputs": [
    {
     "name": "stdout",
     "output_type": "stream",
     "text": [
      "美金價格: 100\n",
      "合台幣3050.0元\n"
     ]
    }
   ],
   "source": [
    "m = input(\"美金價格: \")\n",
    "twd=float(m) * 30.5\n",
    "print(\"合台幣\"+ str(twd) +\"元\")"
   ]
  },
  {
   "cell_type": "code",
   "execution_count": 2,
   "id": "c41c3278",
   "metadata": {},
   "outputs": [
    {
     "data": {
      "text/plain": [
       "3050.0"
      ]
     },
     "execution_count": 2,
     "metadata": {},
     "output_type": "execute_result"
    }
   ],
   "source": [
    "twd"
   ]
  },
  {
   "cell_type": "code",
   "execution_count": 3,
   "id": "c0751bb1",
   "metadata": {},
   "outputs": [
    {
     "ename": "TypeError",
     "evalue": "can only concatenate str (not \"float\") to str",
     "output_type": "error",
     "traceback": [
      "\u001b[1;31m---------------------------------------------------------------------------\u001b[0m",
      "\u001b[1;31mTypeError\u001b[0m                                 Traceback (most recent call last)",
      "\u001b[1;32m~\\AppData\\Local\\Temp\\ipykernel_15876\\3391264861.py\u001b[0m in \u001b[0;36m<module>\u001b[1;34m\u001b[0m\n\u001b[1;32m----> 1\u001b[1;33m \u001b[1;34m\"合台幣\"\u001b[0m\u001b[1;33m+\u001b[0m \u001b[0mtwd\u001b[0m \u001b[1;33m+\u001b[0m\u001b[1;34m\"元\"\u001b[0m\u001b[1;33m\u001b[0m\u001b[1;33m\u001b[0m\u001b[0m\n\u001b[0m",
      "\u001b[1;31mTypeError\u001b[0m: can only concatenate str (not \"float\") to str"
     ]
    }
   ],
   "source": [
    "\"合台幣\"+ twd +\"元\""
   ]
  },
  {
   "cell_type": "code",
   "execution_count": 4,
   "id": "f79aa2d6",
   "metadata": {},
   "outputs": [
    {
     "data": {
      "text/plain": [
       "'合台幣3050.0元'"
      ]
     },
     "execution_count": 4,
     "metadata": {},
     "output_type": "execute_result"
    }
   ],
   "source": [
    "\"合台幣\"+ str(twd) +\"元\""
   ]
  },
  {
   "cell_type": "markdown",
   "id": "caaba852",
   "metadata": {},
   "source": [
    "# 拍拍機器人"
   ]
  },
  {
   "cell_type": "code",
   "execution_count": 5,
   "id": "b5065657",
   "metadata": {},
   "outputs": [
    {
     "name": "stdout",
     "output_type": "stream",
     "text": [
      ">> 今天天氣很好\n",
      "拍拍\n"
     ]
    }
   ],
   "source": [
    "message=input(\">> \")\n",
    "print('拍拍')"
   ]
  },
  {
   "cell_type": "code",
   "execution_count": null,
   "id": "26bef49c",
   "metadata": {},
   "outputs": [],
   "source": []
  }
 ],
 "metadata": {
  "kernelspec": {
   "display_name": "Python 3 (ipykernel)",
   "language": "python",
   "name": "python3"
  },
  "language_info": {
   "codemirror_mode": {
    "name": "ipython",
    "version": 3
   },
   "file_extension": ".py",
   "mimetype": "text/x-python",
   "name": "python",
   "nbconvert_exporter": "python",
   "pygments_lexer": "ipython3",
   "version": "3.9.13"
  }
 },
 "nbformat": 4,
 "nbformat_minor": 5
}
