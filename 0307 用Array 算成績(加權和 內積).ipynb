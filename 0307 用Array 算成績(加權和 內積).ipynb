{
 "cells": [
  {
   "cell_type": "code",
   "execution_count": 2,
   "id": "19f0957c",
   "metadata": {},
   "outputs": [],
   "source": [
    "%matplotlib inline\n",
    "import numpy as np\n",
    "import matplotlib.pyplot as plt"
   ]
  },
  {
   "cell_type": "code",
   "execution_count": 3,
   "id": "a67c0480",
   "metadata": {},
   "outputs": [],
   "source": [
    "np.array?"
   ]
  },
  {
   "cell_type": "code",
   "execution_count": 4,
   "id": "7138ab58",
   "metadata": {},
   "outputs": [],
   "source": [
    "grades=np.array([85,70,82])"
   ]
  },
  {
   "cell_type": "code",
   "execution_count": 5,
   "id": "68d8777a",
   "metadata": {},
   "outputs": [],
   "source": [
    "weight=np.array([0.3,0.4,0.3])"
   ]
  },
  {
   "cell_type": "code",
   "execution_count": 6,
   "id": "61da4472",
   "metadata": {},
   "outputs": [],
   "source": [
    "g=grades*weight"
   ]
  },
  {
   "cell_type": "code",
   "execution_count": 7,
   "id": "7cac2145",
   "metadata": {},
   "outputs": [
    {
     "data": {
      "text/plain": [
       "array([25.5, 28. , 24.6])"
      ]
     },
     "execution_count": 7,
     "metadata": {},
     "output_type": "execute_result"
    }
   ],
   "source": [
    "g"
   ]
  },
  {
   "cell_type": "code",
   "execution_count": 8,
   "id": "48bba49f",
   "metadata": {},
   "outputs": [
    {
     "data": {
      "text/plain": [
       "78.1"
      ]
     },
     "execution_count": 8,
     "metadata": {},
     "output_type": "execute_result"
    }
   ],
   "source": [
    "g.sum()"
   ]
  },
  {
   "cell_type": "markdown",
   "id": "cd69c6d1",
   "metadata": {},
   "source": [
    "## 內積, 老師教的方法"
   ]
  },
  {
   "cell_type": "code",
   "execution_count": 10,
   "id": "a6f56dd8",
   "metadata": {},
   "outputs": [
    {
     "data": {
      "text/plain": [
       "78.1"
      ]
     },
     "execution_count": 10,
     "metadata": {},
     "output_type": "execute_result"
    }
   ],
   "source": [
    "np.dot(grades,weight)"
   ]
  },
  {
   "cell_type": "markdown",
   "id": "494156bf",
   "metadata": {},
   "source": [
    "## 內積, 老師沒教的方法"
   ]
  },
  {
   "cell_type": "code",
   "execution_count": 9,
   "id": "9ff864cb",
   "metadata": {},
   "outputs": [
    {
     "data": {
      "text/plain": [
       "78.1"
      ]
     },
     "execution_count": 9,
     "metadata": {},
     "output_type": "execute_result"
    }
   ],
   "source": [
    "grades.dot(weight)"
   ]
  },
  {
   "cell_type": "code",
   "execution_count": null,
   "id": "419b4ce4",
   "metadata": {},
   "outputs": [],
   "source": []
  }
 ],
 "metadata": {
  "kernelspec": {
   "display_name": "Python 3 (ipykernel)",
   "language": "python",
   "name": "python3"
  },
  "language_info": {
   "codemirror_mode": {
    "name": "ipython",
    "version": 3
   },
   "file_extension": ".py",
   "mimetype": "text/x-python",
   "name": "python",
   "nbconvert_exporter": "python",
   "pygments_lexer": "ipython3",
   "version": "3.9.13"
  }
 },
 "nbformat": 4,
 "nbformat_minor": 5
}
