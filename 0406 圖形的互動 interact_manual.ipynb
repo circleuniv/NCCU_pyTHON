{
 "cells": [
  {
   "cell_type": "code",
   "execution_count": 16,
   "id": "37042305",
   "metadata": {},
   "outputs": [],
   "source": [
    "%matplotlib inline\n",
    "import numpy as np\n",
    "import matplotlib.pyplot as plt"
   ]
  },
  {
   "cell_type": "code",
   "execution_count": 17,
   "id": "0546087b",
   "metadata": {},
   "outputs": [],
   "source": [
    "from ipywidgets import interact_manual"
   ]
  },
  {
   "cell_type": "code",
   "execution_count": 35,
   "id": "6d43aa8d",
   "metadata": {},
   "outputs": [],
   "source": [
    "A=np.random.rand(6)  # 0~1 取六個點出來\n",
    "B=np.random.rand(6)"
   ]
  },
  {
   "cell_type": "code",
   "execution_count": 36,
   "id": "66401f9d",
   "metadata": {},
   "outputs": [
    {
     "data": {
      "text/plain": [
       "<matplotlib.collections.PathCollection at 0x2862bed05e0>"
      ]
     },
     "execution_count": 36,
     "metadata": {},
     "output_type": "execute_result"
    },
    {
     "data": {
      "image/png": "[encoded data removed]",
      "text/plain": [
       "<Figure size 640x480 with 1 Axes>"
      ]
     },
     "metadata": {},
     "output_type": "display_data"
    }
   ],
   "source": [
    "plt.scatter(A,B, s=100, c='r') #畫圖點, size1 100, color: red"
   ]
  },
  {
   "cell_type": "code",
   "execution_count": 37,
   "id": "0740500c",
   "metadata": {},
   "outputs": [],
   "source": [
    "x=np.linspace(0,1,1000)"
   ]
  },
  {
   "cell_type": "code",
   "execution_count": 38,
   "id": "4ba09b1c",
   "metadata": {},
   "outputs": [],
   "source": [
    "def draw(n):\n",
    "    plt.scatter(A,B, s=100, c='r') #畫圖點, size1 100, color: red\n",
    "    y=0.5*np.sin(n*x*2*np.pi)+0.5\n",
    "    plt.plot(x,y)\n",
    "    plt.show()"
   ]
  },
  {
   "cell_type": "code",
   "execution_count": 39,
   "id": "7c42ff97",
   "metadata": {},
   "outputs": [
    {
     "data": {
      "application/vnd.jupyter.widget-view+json": {
       "model_id": "4694a85de3d94107b97c0504e7e68b73",
       "version_major": 2,
       "version_minor": 0
      },
      "text/plain": [
       "interactive(children=(FloatSlider(value=100.5, description='n', max=200.0, min=1.0), Button(description='Run I…"
      ]
     },
     "metadata": {},
     "output_type": "display_data"
    },
    {
     "data": {
      "text/plain": [
       "<function __main__.draw(n)>"
      ]
     },
     "execution_count": 39,
     "metadata": {},
     "output_type": "execute_result"
    }
   ],
   "source": [
    "interact_manual(draw,n=(1.,200.))"
   ]
  },
  {
   "cell_type": "code",
   "execution_count": null,
   "id": "47695f14",
   "metadata": {},
   "outputs": [],
   "source": []
  }
 ],
 "metadata": {
  "kernelspec": {
   "display_name": "Python 3 (ipykernel)",
   "language": "python",
   "name": "python3"
  },
  "language_info": {
   "codemirror_mode": {
    "name": "ipython",
    "version": 3
   },
   "file_extension": ".py",
   "mimetype": "text/x-python",
   "name": "python",
   "nbconvert_exporter": "python",
   "pygments_lexer": "ipython3",
   "version": "3.9.13"
  }
 },
 "nbformat": 4,
 "nbformat_minor": 5
}
