{
 "cells": [
  {
   "cell_type": "code",
   "execution_count": 5,
   "id": "f1cfd7f4",
   "metadata": {},
   "outputs": [],
   "source": [
    "name=\"宥靜\""
   ]
  },
  {
   "cell_type": "code",
   "execution_count": 6,
   "id": "84d1aaab",
   "metadata": {},
   "outputs": [],
   "source": [
    "place=\"台北\""
   ]
  },
  {
   "cell_type": "code",
   "execution_count": 7,
   "id": "19af40e8",
   "metadata": {},
   "outputs": [],
   "source": [
    "message=\"您好, 來自{} 的 {} !\".format(place,name)"
   ]
  },
  {
   "cell_type": "code",
   "execution_count": 8,
   "id": "366bd581",
   "metadata": {},
   "outputs": [
    {
     "data": {
      "text/plain": [
       "'您好, 來自台北 的 宥靜 !'"
      ]
     },
     "execution_count": 8,
     "metadata": {},
     "output_type": "execute_result"
    }
   ],
   "source": [
    "message"
   ]
  },
  {
   "cell_type": "code",
   "execution_count": 9,
   "id": "354098db",
   "metadata": {},
   "outputs": [],
   "source": [
    "def say_hi(name, place):\n",
    "    message=\"您好, 來自{} 的 {} !\".format(place,name)\n",
    "    return message"
   ]
  },
  {
   "cell_type": "code",
   "execution_count": 10,
   "id": "7d323e7f",
   "metadata": {},
   "outputs": [
    {
     "data": {
      "text/plain": [
       "'您好, 來自異次元 的 多啦a夢 !'"
      ]
     },
     "execution_count": 10,
     "metadata": {},
     "output_type": "execute_result"
    }
   ],
   "source": [
    "say_hi('多啦a夢',\"異次元\")"
   ]
  },
  {
   "cell_type": "code",
   "execution_count": 11,
   "id": "1c730660",
   "metadata": {},
   "outputs": [
    {
     "data": {
      "text/plain": [
       "'您好, 來自西方極樂世界 的 阿彌陀佛 !'"
      ]
     },
     "execution_count": 11,
     "metadata": {},
     "output_type": "execute_result"
    }
   ],
   "source": [
    "say_hi(\"阿彌陀佛\",\"西方極樂世界\")"
   ]
  },
  {
   "cell_type": "code",
   "execution_count": null,
   "id": "bbbacc3c",
   "metadata": {},
   "outputs": [],
   "source": []
  }
 ],
 "metadata": {
  "kernelspec": {
   "display_name": "Python 3 (ipykernel)",
   "language": "python",
   "name": "python3"
  },
  "language_info": {
   "codemirror_mode": {
    "name": "ipython",
    "version": 3
   },
   "file_extension": ".py",
   "mimetype": "text/x-python",
   "name": "python",
   "nbconvert_exporter": "python",
   "pygments_lexer": "ipython3",
   "version": "3.9.13"
  }
 },
 "nbformat": 4,
 "nbformat_minor": 5
}
