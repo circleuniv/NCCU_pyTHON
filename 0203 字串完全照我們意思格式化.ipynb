{
 "cells": [
  {
   "cell_type": "markdown",
   "id": "5a25a510",
   "metadata": {},
   "source": [
    "# 字串的格式化"
   ]
  },
  {
   "cell_type": "code",
   "execution_count": 1,
   "id": "0657080a",
   "metadata": {},
   "outputs": [],
   "source": [
    "name=\"宥靜\"\n",
    "place =\"台北\""
   ]
  },
  {
   "cell_type": "code",
   "execution_count": 5,
   "id": "deb977e4",
   "metadata": {},
   "outputs": [],
   "source": [
    "message=\"您好, 來自 \"+place+ \" 的 \" +name+ \"!\" "
   ]
  },
  {
   "cell_type": "code",
   "execution_count": 6,
   "id": "6782d44c",
   "metadata": {},
   "outputs": [
    {
     "data": {
      "text/plain": [
       "'您好, 來自 台北 的 宥靜!'"
      ]
     },
     "execution_count": 6,
     "metadata": {},
     "output_type": "execute_result"
    }
   ],
   "source": [
    "message"
   ]
  },
  {
   "cell_type": "code",
   "execution_count": 8,
   "id": "2f1319f5",
   "metadata": {},
   "outputs": [],
   "source": [
    "message=\"您好, 來自 {} 的 {}!\".format(place,name)"
   ]
  },
  {
   "cell_type": "code",
   "execution_count": 9,
   "id": "d1185d9e",
   "metadata": {},
   "outputs": [
    {
     "data": {
      "text/plain": [
       "'您好, 來自 台北 的 宥靜!'"
      ]
     },
     "execution_count": 9,
     "metadata": {},
     "output_type": "execute_result"
    }
   ],
   "source": [
    "message"
   ]
  },
  {
   "cell_type": "markdown",
   "id": "ea7e35bc",
   "metadata": {},
   "source": [
    "# 資料型態不用擔心!"
   ]
  },
  {
   "cell_type": "code",
   "execution_count": 10,
   "id": "67bdd7fe",
   "metadata": {},
   "outputs": [
    {
     "name": "stdout",
     "output_type": "stream",
     "text": [
      "270合台幣8235.0元\n"
     ]
    }
   ],
   "source": [
    "m=270\n",
    "print(str(m) + \"合台幣\" + str(m*30.5) +\"元\")"
   ]
  },
  {
   "cell_type": "code",
   "execution_count": 11,
   "id": "d19f6373",
   "metadata": {},
   "outputs": [
    {
     "name": "stdout",
     "output_type": "stream",
     "text": [
      "270合台幣8235.0元\n"
     ]
    }
   ],
   "source": [
    "print(\"{}合台幣{}元\".format(m,m*30.5))"
   ]
  },
  {
   "cell_type": "code",
   "execution_count": null,
   "id": "d6ffc308",
   "metadata": {},
   "outputs": [],
   "source": []
  }
 ],
 "metadata": {
  "kernelspec": {
   "display_name": "Python 3 (ipykernel)",
   "language": "python",
   "name": "python3"
  },
  "language_info": {
   "codemirror_mode": {
    "name": "ipython",
    "version": 3
   },
   "file_extension": ".py",
   "mimetype": "text/x-python",
   "name": "python",
   "nbconvert_exporter": "python",
   "pygments_lexer": "ipython3",
   "version": "3.9.13"
  }
 },
 "nbformat": 4,
 "nbformat_minor": 5
}
