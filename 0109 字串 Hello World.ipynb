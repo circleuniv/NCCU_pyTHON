{
 "cells": [
  {
   "cell_type": "markdown",
   "id": "a9e8ba78",
   "metadata": {},
   "source": [
    "# Hello, World!"
   ]
  },
  {
   "cell_type": "code",
   "execution_count": 1,
   "id": "de3602b9",
   "metadata": {},
   "outputs": [
    {
     "name": "stdout",
     "output_type": "stream",
     "text": [
      "hello, world\n"
     ]
    }
   ],
   "source": [
    "print(\"hello, world\")"
   ]
  },
  {
   "cell_type": "markdown",
   "id": "bd79913e",
   "metadata": {},
   "source": [
    "# 字串"
   ]
  },
  {
   "cell_type": "code",
   "execution_count": 3,
   "id": "d865bbca",
   "metadata": {},
   "outputs": [
    {
     "name": "stdout",
     "output_type": "stream",
     "text": [
      "yuching\n"
     ]
    }
   ],
   "source": [
    "name='yuching'\n",
    "print(name)"
   ]
  },
  {
   "cell_type": "markdown",
   "id": "7eb635e7",
   "metadata": {},
   "source": [
    "# 字串相加"
   ]
  },
  {
   "cell_type": "code",
   "execution_count": 4,
   "id": "6df09689",
   "metadata": {},
   "outputs": [
    {
     "data": {
      "text/plain": [
       "'yuching'"
      ]
     },
     "execution_count": 4,
     "metadata": {},
     "output_type": "execute_result"
    }
   ],
   "source": [
    "name"
   ]
  },
  {
   "cell_type": "code",
   "execution_count": 5,
   "id": "a799894c",
   "metadata": {},
   "outputs": [
    {
     "data": {
      "text/plain": [
       "'hello, yuching!'"
      ]
     },
     "execution_count": 5,
     "metadata": {},
     "output_type": "execute_result"
    }
   ],
   "source": [
    "\"hello, \"+ name + \"!\""
   ]
  },
  {
   "cell_type": "code",
   "execution_count": 8,
   "id": "abefb2ed",
   "metadata": {},
   "outputs": [
    {
     "name": "stdout",
     "output_type": "stream",
     "text": [
      "hello, John!\n"
     ]
    }
   ],
   "source": [
    "name='John'\n",
    "print(\"hello, \"+name+\"!\")"
   ]
  },
  {
   "cell_type": "code",
   "execution_count": 12,
   "id": "eebf3e85",
   "metadata": {},
   "outputs": [],
   "source": [
    "hi='hi'\n",
    "name=' ken'"
   ]
  },
  {
   "cell_type": "code",
   "execution_count": 13,
   "id": "d5761204",
   "metadata": {},
   "outputs": [
    {
     "data": {
      "text/plain": [
       "'hi ken'"
      ]
     },
     "execution_count": 13,
     "metadata": {},
     "output_type": "execute_result"
    }
   ],
   "source": [
    "hi+name"
   ]
  },
  {
   "cell_type": "markdown",
   "id": "1d1a9e98",
   "metadata": {},
   "source": [
    "# k倍的字串"
   ]
  },
  {
   "cell_type": "code",
   "execution_count": 1,
   "id": "de569b7d",
   "metadata": {},
   "outputs": [],
   "source": [
    "emoji=\" ♫.(◕∠◕).♫ \""
   ]
  },
  {
   "cell_type": "code",
   "execution_count": 2,
   "id": "7824660c",
   "metadata": {},
   "outputs": [
    {
     "data": {
      "text/plain": [
       "' ♫.(◕∠◕).♫  ♫.(◕∠◕).♫  ♫.(◕∠◕).♫  ♫.(◕∠◕).♫  ♫.(◕∠◕).♫ '"
      ]
     },
     "execution_count": 2,
     "metadata": {},
     "output_type": "execute_result"
    }
   ],
   "source": [
    "5*emoji"
   ]
  },
  {
   "cell_type": "markdown",
   "id": "f51939ff",
   "metadata": {},
   "source": [
    "# 神奇三引號"
   ]
  },
  {
   "cell_type": "code",
   "execution_count": 16,
   "id": "365bfc0b",
   "metadata": {},
   "outputs": [],
   "source": [
    "message='''我來示範\n",
    "中間換行\n",
    "像這樣\n",
    "'''"
   ]
  },
  {
   "cell_type": "code",
   "execution_count": 17,
   "id": "7ace79c6",
   "metadata": {},
   "outputs": [
    {
     "name": "stdout",
     "output_type": "stream",
     "text": [
      "我來示範\n",
      "中間換行\n",
      "像這樣\n",
      "\n"
     ]
    }
   ],
   "source": [
    "print(message)"
   ]
  },
  {
   "cell_type": "code",
   "execution_count": 18,
   "id": "555d6eca",
   "metadata": {},
   "outputs": [
    {
     "data": {
      "text/plain": [
       "'我來示範\\n中間換行\\n像這樣\\n'"
      ]
     },
     "execution_count": 18,
     "metadata": {},
     "output_type": "execute_result"
    }
   ],
   "source": [
    "message"
   ]
  },
  {
   "cell_type": "code",
   "execution_count": null,
   "id": "d6542d2c",
   "metadata": {},
   "outputs": [],
   "source": []
  }
 ],
 "metadata": {
  "kernelspec": {
   "display_name": "Python 3 (ipykernel)",
   "language": "python",
   "name": "python3"
  },
  "language_info": {
   "codemirror_mode": {
    "name": "ipython",
    "version": 3
   },
   "file_extension": ".py",
   "mimetype": "text/x-python",
   "name": "python",
   "nbconvert_exporter": "python",
   "pygments_lexer": "ipython3",
   "version": "3.9.13"
  }
 },
 "nbformat": 4,
 "nbformat_minor": 5
}
