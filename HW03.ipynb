{
 "cells": [
  {
   "cell_type": "markdown",
   "id": "b4855cf6",
   "metadata": {},
   "source": [
    "# 請使用者輸入一系列數字，用 numpy 模組將它們存成陣列並尋找最大值和最小值，及找出中位數，並且，排序後 觀察是否正確。"
   ]
  },
  {
   "cell_type": "code",
   "execution_count": 35,
   "id": "4241a9ae",
   "metadata": {},
   "outputs": [],
   "source": [
    "%matplotlib inline\n",
    "import numpy as np\n",
    "import matplotlib.pyplot as plt"
   ]
  },
  {
   "cell_type": "markdown",
   "id": "49f67921",
   "metadata": {},
   "source": [
    "## 可以選擇要輸入幾個數字 （輸入非數字型態，暫不做例外處理）\n",
    "###   *將輸入的數字 存到 串列(List)"
   ]
  },
  {
   "cell_type": "code",
   "execution_count": 36,
   "id": "cbc972db",
   "metadata": {},
   "outputs": [
    {
     "name": "stdout",
     "output_type": "stream",
     "text": [
      "您要輸入幾個數字? 5\n",
      "數1: 7\n",
      "數2: 9\n",
      "數3: -3\n",
      "數4: 0\n",
      "數5: 4\n"
     ]
    }
   ],
   "source": [
    "ct=int(input(\"您要輸入幾個數字? \"))\n",
    "L=[]\n",
    "for x in range(ct):\n",
    "    L.append(int(input(f\"數{x+1}: \")))"
   ]
  },
  {
   "cell_type": "code",
   "execution_count": 37,
   "id": "174e9eb1",
   "metadata": {},
   "outputs": [
    {
     "data": {
      "text/plain": [
       "[7, 9, -3, 0, 4]"
      ]
     },
     "execution_count": 37,
     "metadata": {},
     "output_type": "execute_result"
    }
   ],
   "source": [
    "L"
   ]
  },
  {
   "cell_type": "markdown",
   "id": "bd52180c",
   "metadata": {},
   "source": [
    "## 串列 存成 陣列"
   ]
  },
  {
   "cell_type": "code",
   "execution_count": 38,
   "id": "04422ef1",
   "metadata": {},
   "outputs": [],
   "source": [
    "L=np.array(L)"
   ]
  },
  {
   "cell_type": "code",
   "execution_count": 39,
   "id": "863d5efa",
   "metadata": {},
   "outputs": [
    {
     "data": {
      "text/plain": [
       "array([ 7,  9, -3,  0,  4])"
      ]
     },
     "execution_count": 39,
     "metadata": {},
     "output_type": "execute_result"
    }
   ],
   "source": [
    "L"
   ]
  },
  {
   "cell_type": "markdown",
   "id": "b91fa5c5",
   "metadata": {},
   "source": [
    "## 陣列取最大值"
   ]
  },
  {
   "cell_type": "code",
   "execution_count": 40,
   "id": "3d1f08e1",
   "metadata": {},
   "outputs": [
    {
     "data": {
      "text/plain": [
       "9"
      ]
     },
     "execution_count": 40,
     "metadata": {},
     "output_type": "execute_result"
    }
   ],
   "source": [
    "L.max()"
   ]
  },
  {
   "cell_type": "markdown",
   "id": "ca646e54",
   "metadata": {},
   "source": [
    "## 陣列取最小值"
   ]
  },
  {
   "cell_type": "code",
   "execution_count": 41,
   "id": "ccd3e76a",
   "metadata": {},
   "outputs": [
    {
     "data": {
      "text/plain": [
       "-3"
      ]
     },
     "execution_count": 41,
     "metadata": {},
     "output_type": "execute_result"
    }
   ],
   "source": [
    "L.min()"
   ]
  },
  {
   "cell_type": "markdown",
   "id": "ab70955a",
   "metadata": {},
   "source": [
    "## 陣列取中位數"
   ]
  },
  {
   "cell_type": "code",
   "execution_count": 42,
   "id": "795153c6",
   "metadata": {},
   "outputs": [
    {
     "data": {
      "text/plain": [
       "4.0"
      ]
     },
     "execution_count": 42,
     "metadata": {},
     "output_type": "execute_result"
    }
   ],
   "source": [
    "np.median(L)"
   ]
  },
  {
   "cell_type": "markdown",
   "id": "f727bfc0",
   "metadata": {},
   "source": [
    "## 陣列排序 並 觀察數值"
   ]
  },
  {
   "cell_type": "code",
   "execution_count": 44,
   "id": "34464b21",
   "metadata": {},
   "outputs": [],
   "source": [
    "L.sort()"
   ]
  },
  {
   "cell_type": "code",
   "execution_count": 45,
   "id": "8cbc442b",
   "metadata": {},
   "outputs": [
    {
     "data": {
      "text/plain": [
       "array([-3,  0,  4,  7,  9])"
      ]
     },
     "execution_count": 45,
     "metadata": {},
     "output_type": "execute_result"
    }
   ],
   "source": [
    "L"
   ]
  }
 ],
 "metadata": {
  "kernelspec": {
   "display_name": "Python 3 (ipykernel)",
   "language": "python",
   "name": "python3"
  },
  "language_info": {
   "codemirror_mode": {
    "name": "ipython",
    "version": 3
   },
   "file_extension": ".py",
   "mimetype": "text/x-python",
   "name": "python",
   "nbconvert_exporter": "python",
   "pygments_lexer": "ipython3",
   "version": "3.9.13"
  }
 },
 "nbformat": 4,
 "nbformat_minor": 5
}
